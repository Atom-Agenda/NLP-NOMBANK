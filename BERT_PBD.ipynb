{
  "nbformat": 4,
  "nbformat_minor": 0,
  "metadata": {
    "colab": {
      "provenance": []
    },
    "kernelspec": {
      "name": "python3",
      "display_name": "Python 3"
    },
    "language_info": {
      "name": "python"
    },
    "accelerator": "GPU",
    "gpuClass": "standard",
    "widgets": {
      "application/vnd.jupyter.widget-state+json": {
        "18b7784f4fbc4abfbfebb9b0dfc977e5": {
          "model_module": "@jupyter-widgets/controls",
          "model_name": "HBoxModel",
          "model_module_version": "1.5.0",
          "state": {
            "_dom_classes": [],
            "_model_module": "@jupyter-widgets/controls",
            "_model_module_version": "1.5.0",
            "_model_name": "HBoxModel",
            "_view_count": null,
            "_view_module": "@jupyter-widgets/controls",
            "_view_module_version": "1.5.0",
            "_view_name": "HBoxView",
            "box_style": "",
            "children": [
              "IPY_MODEL_91b334ca10f343b3ada46d2189a0ce85",
              "IPY_MODEL_8bd85957b7ce48c998cf5e5735f1dce1",
              "IPY_MODEL_b3632703e7b14046b20b8fbc6d962d17"
            ],
            "layout": "IPY_MODEL_19657cfbb15a4e8fa0247a477d8a288e"
          }
        },
        "91b334ca10f343b3ada46d2189a0ce85": {
          "model_module": "@jupyter-widgets/controls",
          "model_name": "HTMLModel",
          "model_module_version": "1.5.0",
          "state": {
            "_dom_classes": [],
            "_model_module": "@jupyter-widgets/controls",
            "_model_module_version": "1.5.0",
            "_model_name": "HTMLModel",
            "_view_count": null,
            "_view_module": "@jupyter-widgets/controls",
            "_view_module_version": "1.5.0",
            "_view_name": "HTMLView",
            "description": "",
            "description_tooltip": null,
            "layout": "IPY_MODEL_366b3f7095ab486e851e56b1b4f67284",
            "placeholder": "​",
            "style": "IPY_MODEL_7471228b37564051a3cd8d6b6492242c",
            "value": "100%"
          }
        },
        "8bd85957b7ce48c998cf5e5735f1dce1": {
          "model_module": "@jupyter-widgets/controls",
          "model_name": "FloatProgressModel",
          "model_module_version": "1.5.0",
          "state": {
            "_dom_classes": [],
            "_model_module": "@jupyter-widgets/controls",
            "_model_module_version": "1.5.0",
            "_model_name": "FloatProgressModel",
            "_view_count": null,
            "_view_module": "@jupyter-widgets/controls",
            "_view_module_version": "1.5.0",
            "_view_name": "ProgressView",
            "bar_style": "success",
            "description": "",
            "description_tooltip": null,
            "layout": "IPY_MODEL_e665cb01fabe4d1295c7a796a55357f5",
            "max": 3,
            "min": 0,
            "orientation": "horizontal",
            "style": "IPY_MODEL_1ae4973fa3ad4c6381597af43a437aa9",
            "value": 3
          }
        },
        "b3632703e7b14046b20b8fbc6d962d17": {
          "model_module": "@jupyter-widgets/controls",
          "model_name": "HTMLModel",
          "model_module_version": "1.5.0",
          "state": {
            "_dom_classes": [],
            "_model_module": "@jupyter-widgets/controls",
            "_model_module_version": "1.5.0",
            "_model_name": "HTMLModel",
            "_view_count": null,
            "_view_module": "@jupyter-widgets/controls",
            "_view_module_version": "1.5.0",
            "_view_name": "HTMLView",
            "description": "",
            "description_tooltip": null,
            "layout": "IPY_MODEL_f59af0b093f042d1bd20241cdce7f798",
            "placeholder": "​",
            "style": "IPY_MODEL_282c6e2982e74e1b951a951d5be0d09d",
            "value": " 3/3 [00:00&lt;00:00,  2.75ba/s]"
          }
        },
        "19657cfbb15a4e8fa0247a477d8a288e": {
          "model_module": "@jupyter-widgets/base",
          "model_name": "LayoutModel",
          "model_module_version": "1.2.0",
          "state": {
            "_model_module": "@jupyter-widgets/base",
            "_model_module_version": "1.2.0",
            "_model_name": "LayoutModel",
            "_view_count": null,
            "_view_module": "@jupyter-widgets/base",
            "_view_module_version": "1.2.0",
            "_view_name": "LayoutView",
            "align_content": null,
            "align_items": null,
            "align_self": null,
            "border": null,
            "bottom": null,
            "display": null,
            "flex": null,
            "flex_flow": null,
            "grid_area": null,
            "grid_auto_columns": null,
            "grid_auto_flow": null,
            "grid_auto_rows": null,
            "grid_column": null,
            "grid_gap": null,
            "grid_row": null,
            "grid_template_areas": null,
            "grid_template_columns": null,
            "grid_template_rows": null,
            "height": null,
            "justify_content": null,
            "justify_items": null,
            "left": null,
            "margin": null,
            "max_height": null,
            "max_width": null,
            "min_height": null,
            "min_width": null,
            "object_fit": null,
            "object_position": null,
            "order": null,
            "overflow": null,
            "overflow_x": null,
            "overflow_y": null,
            "padding": null,
            "right": null,
            "top": null,
            "visibility": null,
            "width": null
          }
        },
        "366b3f7095ab486e851e56b1b4f67284": {
          "model_module": "@jupyter-widgets/base",
          "model_name": "LayoutModel",
          "model_module_version": "1.2.0",
          "state": {
            "_model_module": "@jupyter-widgets/base",
            "_model_module_version": "1.2.0",
            "_model_name": "LayoutModel",
            "_view_count": null,
            "_view_module": "@jupyter-widgets/base",
            "_view_module_version": "1.2.0",
            "_view_name": "LayoutView",
            "align_content": null,
            "align_items": null,
            "align_self": null,
            "border": null,
            "bottom": null,
            "display": null,
            "flex": null,
            "flex_flow": null,
            "grid_area": null,
            "grid_auto_columns": null,
            "grid_auto_flow": null,
            "grid_auto_rows": null,
            "grid_column": null,
            "grid_gap": null,
            "grid_row": null,
            "grid_template_areas": null,
            "grid_template_columns": null,
            "grid_template_rows": null,
            "height": null,
            "justify_content": null,
            "justify_items": null,
            "left": null,
            "margin": null,
            "max_height": null,
            "max_width": null,
            "min_height": null,
            "min_width": null,
            "object_fit": null,
            "object_position": null,
            "order": null,
            "overflow": null,
            "overflow_x": null,
            "overflow_y": null,
            "padding": null,
            "right": null,
            "top": null,
            "visibility": null,
            "width": null
          }
        },
        "7471228b37564051a3cd8d6b6492242c": {
          "model_module": "@jupyter-widgets/controls",
          "model_name": "DescriptionStyleModel",
          "model_module_version": "1.5.0",
          "state": {
            "_model_module": "@jupyter-widgets/controls",
            "_model_module_version": "1.5.0",
            "_model_name": "DescriptionStyleModel",
            "_view_count": null,
            "_view_module": "@jupyter-widgets/base",
            "_view_module_version": "1.2.0",
            "_view_name": "StyleView",
            "description_width": ""
          }
        },
        "e665cb01fabe4d1295c7a796a55357f5": {
          "model_module": "@jupyter-widgets/base",
          "model_name": "LayoutModel",
          "model_module_version": "1.2.0",
          "state": {
            "_model_module": "@jupyter-widgets/base",
            "_model_module_version": "1.2.0",
            "_model_name": "LayoutModel",
            "_view_count": null,
            "_view_module": "@jupyter-widgets/base",
            "_view_module_version": "1.2.0",
            "_view_name": "LayoutView",
            "align_content": null,
            "align_items": null,
            "align_self": null,
            "border": null,
            "bottom": null,
            "display": null,
            "flex": null,
            "flex_flow": null,
            "grid_area": null,
            "grid_auto_columns": null,
            "grid_auto_flow": null,
            "grid_auto_rows": null,
            "grid_column": null,
            "grid_gap": null,
            "grid_row": null,
            "grid_template_areas": null,
            "grid_template_columns": null,
            "grid_template_rows": null,
            "height": null,
            "justify_content": null,
            "justify_items": null,
            "left": null,
            "margin": null,
            "max_height": null,
            "max_width": null,
            "min_height": null,
            "min_width": null,
            "object_fit": null,
            "object_position": null,
            "order": null,
            "overflow": null,
            "overflow_x": null,
            "overflow_y": null,
            "padding": null,
            "right": null,
            "top": null,
            "visibility": null,
            "width": null
          }
        },
        "1ae4973fa3ad4c6381597af43a437aa9": {
          "model_module": "@jupyter-widgets/controls",
          "model_name": "ProgressStyleModel",
          "model_module_version": "1.5.0",
          "state": {
            "_model_module": "@jupyter-widgets/controls",
            "_model_module_version": "1.5.0",
            "_model_name": "ProgressStyleModel",
            "_view_count": null,
            "_view_module": "@jupyter-widgets/base",
            "_view_module_version": "1.2.0",
            "_view_name": "StyleView",
            "bar_color": null,
            "description_width": ""
          }
        },
        "f59af0b093f042d1bd20241cdce7f798": {
          "model_module": "@jupyter-widgets/base",
          "model_name": "LayoutModel",
          "model_module_version": "1.2.0",
          "state": {
            "_model_module": "@jupyter-widgets/base",
            "_model_module_version": "1.2.0",
            "_model_name": "LayoutModel",
            "_view_count": null,
            "_view_module": "@jupyter-widgets/base",
            "_view_module_version": "1.2.0",
            "_view_name": "LayoutView",
            "align_content": null,
            "align_items": null,
            "align_self": null,
            "border": null,
            "bottom": null,
            "display": null,
            "flex": null,
            "flex_flow": null,
            "grid_area": null,
            "grid_auto_columns": null,
            "grid_auto_flow": null,
            "grid_auto_rows": null,
            "grid_column": null,
            "grid_gap": null,
            "grid_row": null,
            "grid_template_areas": null,
            "grid_template_columns": null,
            "grid_template_rows": null,
            "height": null,
            "justify_content": null,
            "justify_items": null,
            "left": null,
            "margin": null,
            "max_height": null,
            "max_width": null,
            "min_height": null,
            "min_width": null,
            "object_fit": null,
            "object_position": null,
            "order": null,
            "overflow": null,
            "overflow_x": null,
            "overflow_y": null,
            "padding": null,
            "right": null,
            "top": null,
            "visibility": null,
            "width": null
          }
        },
        "282c6e2982e74e1b951a951d5be0d09d": {
          "model_module": "@jupyter-widgets/controls",
          "model_name": "DescriptionStyleModel",
          "model_module_version": "1.5.0",
          "state": {
            "_model_module": "@jupyter-widgets/controls",
            "_model_module_version": "1.5.0",
            "_model_name": "DescriptionStyleModel",
            "_view_count": null,
            "_view_module": "@jupyter-widgets/base",
            "_view_module_version": "1.2.0",
            "_view_name": "StyleView",
            "description_width": ""
          }
        },
        "ef7777d77a8b4ce69b7f179843d31825": {
          "model_module": "@jupyter-widgets/controls",
          "model_name": "HBoxModel",
          "model_module_version": "1.5.0",
          "state": {
            "_dom_classes": [],
            "_model_module": "@jupyter-widgets/controls",
            "_model_module_version": "1.5.0",
            "_model_name": "HBoxModel",
            "_view_count": null,
            "_view_module": "@jupyter-widgets/controls",
            "_view_module_version": "1.5.0",
            "_view_name": "HBoxView",
            "box_style": "",
            "children": [
              "IPY_MODEL_adf495bc9a0d455e98e6d1123db9f61e",
              "IPY_MODEL_d094db45a4734cbabed9b94fe6668744",
              "IPY_MODEL_e01d54e495a04040800758f45b4397be"
            ],
            "layout": "IPY_MODEL_7d827c954f07482d8363747b9d1c9071"
          }
        },
        "adf495bc9a0d455e98e6d1123db9f61e": {
          "model_module": "@jupyter-widgets/controls",
          "model_name": "HTMLModel",
          "model_module_version": "1.5.0",
          "state": {
            "_dom_classes": [],
            "_model_module": "@jupyter-widgets/controls",
            "_model_module_version": "1.5.0",
            "_model_name": "HTMLModel",
            "_view_count": null,
            "_view_module": "@jupyter-widgets/controls",
            "_view_module_version": "1.5.0",
            "_view_name": "HTMLView",
            "description": "",
            "description_tooltip": null,
            "layout": "IPY_MODEL_b32ece5acf524d3ea234041ca42bd811",
            "placeholder": "​",
            "style": "IPY_MODEL_114cb91d373943c8a9975a20cf73a338",
            "value": "100%"
          }
        },
        "d094db45a4734cbabed9b94fe6668744": {
          "model_module": "@jupyter-widgets/controls",
          "model_name": "FloatProgressModel",
          "model_module_version": "1.5.0",
          "state": {
            "_dom_classes": [],
            "_model_module": "@jupyter-widgets/controls",
            "_model_module_version": "1.5.0",
            "_model_name": "FloatProgressModel",
            "_view_count": null,
            "_view_module": "@jupyter-widgets/controls",
            "_view_module_version": "1.5.0",
            "_view_name": "ProgressView",
            "bar_style": "success",
            "description": "",
            "description_tooltip": null,
            "layout": "IPY_MODEL_c7a6dbcacb634fceb8d8b58d49e5bdf9",
            "max": 1,
            "min": 0,
            "orientation": "horizontal",
            "style": "IPY_MODEL_a44ae6e322a14082858a17a11367b563",
            "value": 1
          }
        },
        "e01d54e495a04040800758f45b4397be": {
          "model_module": "@jupyter-widgets/controls",
          "model_name": "HTMLModel",
          "model_module_version": "1.5.0",
          "state": {
            "_dom_classes": [],
            "_model_module": "@jupyter-widgets/controls",
            "_model_module_version": "1.5.0",
            "_model_name": "HTMLModel",
            "_view_count": null,
            "_view_module": "@jupyter-widgets/controls",
            "_view_module_version": "1.5.0",
            "_view_name": "HTMLView",
            "description": "",
            "description_tooltip": null,
            "layout": "IPY_MODEL_c159869f5647408c8cb17129a27a45e5",
            "placeholder": "​",
            "style": "IPY_MODEL_2f14ec6cb44247f69296eb32d5700eca",
            "value": " 1/1 [00:00&lt;00:00, 15.60ba/s]"
          }
        },
        "7d827c954f07482d8363747b9d1c9071": {
          "model_module": "@jupyter-widgets/base",
          "model_name": "LayoutModel",
          "model_module_version": "1.2.0",
          "state": {
            "_model_module": "@jupyter-widgets/base",
            "_model_module_version": "1.2.0",
            "_model_name": "LayoutModel",
            "_view_count": null,
            "_view_module": "@jupyter-widgets/base",
            "_view_module_version": "1.2.0",
            "_view_name": "LayoutView",
            "align_content": null,
            "align_items": null,
            "align_self": null,
            "border": null,
            "bottom": null,
            "display": null,
            "flex": null,
            "flex_flow": null,
            "grid_area": null,
            "grid_auto_columns": null,
            "grid_auto_flow": null,
            "grid_auto_rows": null,
            "grid_column": null,
            "grid_gap": null,
            "grid_row": null,
            "grid_template_areas": null,
            "grid_template_columns": null,
            "grid_template_rows": null,
            "height": null,
            "justify_content": null,
            "justify_items": null,
            "left": null,
            "margin": null,
            "max_height": null,
            "max_width": null,
            "min_height": null,
            "min_width": null,
            "object_fit": null,
            "object_position": null,
            "order": null,
            "overflow": null,
            "overflow_x": null,
            "overflow_y": null,
            "padding": null,
            "right": null,
            "top": null,
            "visibility": null,
            "width": null
          }
        },
        "b32ece5acf524d3ea234041ca42bd811": {
          "model_module": "@jupyter-widgets/base",
          "model_name": "LayoutModel",
          "model_module_version": "1.2.0",
          "state": {
            "_model_module": "@jupyter-widgets/base",
            "_model_module_version": "1.2.0",
            "_model_name": "LayoutModel",
            "_view_count": null,
            "_view_module": "@jupyter-widgets/base",
            "_view_module_version": "1.2.0",
            "_view_name": "LayoutView",
            "align_content": null,
            "align_items": null,
            "align_self": null,
            "border": null,
            "bottom": null,
            "display": null,
            "flex": null,
            "flex_flow": null,
            "grid_area": null,
            "grid_auto_columns": null,
            "grid_auto_flow": null,
            "grid_auto_rows": null,
            "grid_column": null,
            "grid_gap": null,
            "grid_row": null,
            "grid_template_areas": null,
            "grid_template_columns": null,
            "grid_template_rows": null,
            "height": null,
            "justify_content": null,
            "justify_items": null,
            "left": null,
            "margin": null,
            "max_height": null,
            "max_width": null,
            "min_height": null,
            "min_width": null,
            "object_fit": null,
            "object_position": null,
            "order": null,
            "overflow": null,
            "overflow_x": null,
            "overflow_y": null,
            "padding": null,
            "right": null,
            "top": null,
            "visibility": null,
            "width": null
          }
        },
        "114cb91d373943c8a9975a20cf73a338": {
          "model_module": "@jupyter-widgets/controls",
          "model_name": "DescriptionStyleModel",
          "model_module_version": "1.5.0",
          "state": {
            "_model_module": "@jupyter-widgets/controls",
            "_model_module_version": "1.5.0",
            "_model_name": "DescriptionStyleModel",
            "_view_count": null,
            "_view_module": "@jupyter-widgets/base",
            "_view_module_version": "1.2.0",
            "_view_name": "StyleView",
            "description_width": ""
          }
        },
        "c7a6dbcacb634fceb8d8b58d49e5bdf9": {
          "model_module": "@jupyter-widgets/base",
          "model_name": "LayoutModel",
          "model_module_version": "1.2.0",
          "state": {
            "_model_module": "@jupyter-widgets/base",
            "_model_module_version": "1.2.0",
            "_model_name": "LayoutModel",
            "_view_count": null,
            "_view_module": "@jupyter-widgets/base",
            "_view_module_version": "1.2.0",
            "_view_name": "LayoutView",
            "align_content": null,
            "align_items": null,
            "align_self": null,
            "border": null,
            "bottom": null,
            "display": null,
            "flex": null,
            "flex_flow": null,
            "grid_area": null,
            "grid_auto_columns": null,
            "grid_auto_flow": null,
            "grid_auto_rows": null,
            "grid_column": null,
            "grid_gap": null,
            "grid_row": null,
            "grid_template_areas": null,
            "grid_template_columns": null,
            "grid_template_rows": null,
            "height": null,
            "justify_content": null,
            "justify_items": null,
            "left": null,
            "margin": null,
            "max_height": null,
            "max_width": null,
            "min_height": null,
            "min_width": null,
            "object_fit": null,
            "object_position": null,
            "order": null,
            "overflow": null,
            "overflow_x": null,
            "overflow_y": null,
            "padding": null,
            "right": null,
            "top": null,
            "visibility": null,
            "width": null
          }
        },
        "a44ae6e322a14082858a17a11367b563": {
          "model_module": "@jupyter-widgets/controls",
          "model_name": "ProgressStyleModel",
          "model_module_version": "1.5.0",
          "state": {
            "_model_module": "@jupyter-widgets/controls",
            "_model_module_version": "1.5.0",
            "_model_name": "ProgressStyleModel",
            "_view_count": null,
            "_view_module": "@jupyter-widgets/base",
            "_view_module_version": "1.2.0",
            "_view_name": "StyleView",
            "bar_color": null,
            "description_width": ""
          }
        },
        "c159869f5647408c8cb17129a27a45e5": {
          "model_module": "@jupyter-widgets/base",
          "model_name": "LayoutModel",
          "model_module_version": "1.2.0",
          "state": {
            "_model_module": "@jupyter-widgets/base",
            "_model_module_version": "1.2.0",
            "_model_name": "LayoutModel",
            "_view_count": null,
            "_view_module": "@jupyter-widgets/base",
            "_view_module_version": "1.2.0",
            "_view_name": "LayoutView",
            "align_content": null,
            "align_items": null,
            "align_self": null,
            "border": null,
            "bottom": null,
            "display": null,
            "flex": null,
            "flex_flow": null,
            "grid_area": null,
            "grid_auto_columns": null,
            "grid_auto_flow": null,
            "grid_auto_rows": null,
            "grid_column": null,
            "grid_gap": null,
            "grid_row": null,
            "grid_template_areas": null,
            "grid_template_columns": null,
            "grid_template_rows": null,
            "height": null,
            "justify_content": null,
            "justify_items": null,
            "left": null,
            "margin": null,
            "max_height": null,
            "max_width": null,
            "min_height": null,
            "min_width": null,
            "object_fit": null,
            "object_position": null,
            "order": null,
            "overflow": null,
            "overflow_x": null,
            "overflow_y": null,
            "padding": null,
            "right": null,
            "top": null,
            "visibility": null,
            "width": null
          }
        },
        "2f14ec6cb44247f69296eb32d5700eca": {
          "model_module": "@jupyter-widgets/controls",
          "model_name": "DescriptionStyleModel",
          "model_module_version": "1.5.0",
          "state": {
            "_model_module": "@jupyter-widgets/controls",
            "_model_module_version": "1.5.0",
            "_model_name": "DescriptionStyleModel",
            "_view_count": null,
            "_view_module": "@jupyter-widgets/base",
            "_view_module_version": "1.2.0",
            "_view_name": "StyleView",
            "description_width": ""
          }
        },
        "a4f2d1c4da0c493185d2be60ea1b9861": {
          "model_module": "@jupyter-widgets/controls",
          "model_name": "HBoxModel",
          "model_module_version": "1.5.0",
          "state": {
            "_dom_classes": [],
            "_model_module": "@jupyter-widgets/controls",
            "_model_module_version": "1.5.0",
            "_model_name": "HBoxModel",
            "_view_count": null,
            "_view_module": "@jupyter-widgets/controls",
            "_view_module_version": "1.5.0",
            "_view_name": "HBoxView",
            "box_style": "",
            "children": [
              "IPY_MODEL_b79e567b39d946cbae6e036e60b3c052",
              "IPY_MODEL_74eac5091a294abbb0bc3d7588d41567",
              "IPY_MODEL_b1027155885945be85b2b22bdd76841b"
            ],
            "layout": "IPY_MODEL_0e731cd013aa4d908393361045b7044b"
          }
        },
        "b79e567b39d946cbae6e036e60b3c052": {
          "model_module": "@jupyter-widgets/controls",
          "model_name": "HTMLModel",
          "model_module_version": "1.5.0",
          "state": {
            "_dom_classes": [],
            "_model_module": "@jupyter-widgets/controls",
            "_model_module_version": "1.5.0",
            "_model_name": "HTMLModel",
            "_view_count": null,
            "_view_module": "@jupyter-widgets/controls",
            "_view_module_version": "1.5.0",
            "_view_name": "HTMLView",
            "description": "",
            "description_tooltip": null,
            "layout": "IPY_MODEL_e23ed2205d014fc3912d2318e8b68051",
            "placeholder": "​",
            "style": "IPY_MODEL_bd2c7f01e1384042bdd885963187e389",
            "value": "100%"
          }
        },
        "74eac5091a294abbb0bc3d7588d41567": {
          "model_module": "@jupyter-widgets/controls",
          "model_name": "FloatProgressModel",
          "model_module_version": "1.5.0",
          "state": {
            "_dom_classes": [],
            "_model_module": "@jupyter-widgets/controls",
            "_model_module_version": "1.5.0",
            "_model_name": "FloatProgressModel",
            "_view_count": null,
            "_view_module": "@jupyter-widgets/controls",
            "_view_module_version": "1.5.0",
            "_view_name": "ProgressView",
            "bar_style": "success",
            "description": "",
            "description_tooltip": null,
            "layout": "IPY_MODEL_ad642b24a4204005a9b8fb310e58f199",
            "max": 1,
            "min": 0,
            "orientation": "horizontal",
            "style": "IPY_MODEL_fc471b1a5b0245d78890fe89b5d8b1f5",
            "value": 1
          }
        },
        "b1027155885945be85b2b22bdd76841b": {
          "model_module": "@jupyter-widgets/controls",
          "model_name": "HTMLModel",
          "model_module_version": "1.5.0",
          "state": {
            "_dom_classes": [],
            "_model_module": "@jupyter-widgets/controls",
            "_model_module_version": "1.5.0",
            "_model_name": "HTMLModel",
            "_view_count": null,
            "_view_module": "@jupyter-widgets/controls",
            "_view_module_version": "1.5.0",
            "_view_name": "HTMLView",
            "description": "",
            "description_tooltip": null,
            "layout": "IPY_MODEL_dc66a726f3f44989ae36929a9c0d7a68",
            "placeholder": "​",
            "style": "IPY_MODEL_8844ebdeff7642a596b4bceead9b6a22",
            "value": " 1/1 [00:00&lt;00:00, 12.14ba/s]"
          }
        },
        "0e731cd013aa4d908393361045b7044b": {
          "model_module": "@jupyter-widgets/base",
          "model_name": "LayoutModel",
          "model_module_version": "1.2.0",
          "state": {
            "_model_module": "@jupyter-widgets/base",
            "_model_module_version": "1.2.0",
            "_model_name": "LayoutModel",
            "_view_count": null,
            "_view_module": "@jupyter-widgets/base",
            "_view_module_version": "1.2.0",
            "_view_name": "LayoutView",
            "align_content": null,
            "align_items": null,
            "align_self": null,
            "border": null,
            "bottom": null,
            "display": null,
            "flex": null,
            "flex_flow": null,
            "grid_area": null,
            "grid_auto_columns": null,
            "grid_auto_flow": null,
            "grid_auto_rows": null,
            "grid_column": null,
            "grid_gap": null,
            "grid_row": null,
            "grid_template_areas": null,
            "grid_template_columns": null,
            "grid_template_rows": null,
            "height": null,
            "justify_content": null,
            "justify_items": null,
            "left": null,
            "margin": null,
            "max_height": null,
            "max_width": null,
            "min_height": null,
            "min_width": null,
            "object_fit": null,
            "object_position": null,
            "order": null,
            "overflow": null,
            "overflow_x": null,
            "overflow_y": null,
            "padding": null,
            "right": null,
            "top": null,
            "visibility": null,
            "width": null
          }
        },
        "e23ed2205d014fc3912d2318e8b68051": {
          "model_module": "@jupyter-widgets/base",
          "model_name": "LayoutModel",
          "model_module_version": "1.2.0",
          "state": {
            "_model_module": "@jupyter-widgets/base",
            "_model_module_version": "1.2.0",
            "_model_name": "LayoutModel",
            "_view_count": null,
            "_view_module": "@jupyter-widgets/base",
            "_view_module_version": "1.2.0",
            "_view_name": "LayoutView",
            "align_content": null,
            "align_items": null,
            "align_self": null,
            "border": null,
            "bottom": null,
            "display": null,
            "flex": null,
            "flex_flow": null,
            "grid_area": null,
            "grid_auto_columns": null,
            "grid_auto_flow": null,
            "grid_auto_rows": null,
            "grid_column": null,
            "grid_gap": null,
            "grid_row": null,
            "grid_template_areas": null,
            "grid_template_columns": null,
            "grid_template_rows": null,
            "height": null,
            "justify_content": null,
            "justify_items": null,
            "left": null,
            "margin": null,
            "max_height": null,
            "max_width": null,
            "min_height": null,
            "min_width": null,
            "object_fit": null,
            "object_position": null,
            "order": null,
            "overflow": null,
            "overflow_x": null,
            "overflow_y": null,
            "padding": null,
            "right": null,
            "top": null,
            "visibility": null,
            "width": null
          }
        },
        "bd2c7f01e1384042bdd885963187e389": {
          "model_module": "@jupyter-widgets/controls",
          "model_name": "DescriptionStyleModel",
          "model_module_version": "1.5.0",
          "state": {
            "_model_module": "@jupyter-widgets/controls",
            "_model_module_version": "1.5.0",
            "_model_name": "DescriptionStyleModel",
            "_view_count": null,
            "_view_module": "@jupyter-widgets/base",
            "_view_module_version": "1.2.0",
            "_view_name": "StyleView",
            "description_width": ""
          }
        },
        "ad642b24a4204005a9b8fb310e58f199": {
          "model_module": "@jupyter-widgets/base",
          "model_name": "LayoutModel",
          "model_module_version": "1.2.0",
          "state": {
            "_model_module": "@jupyter-widgets/base",
            "_model_module_version": "1.2.0",
            "_model_name": "LayoutModel",
            "_view_count": null,
            "_view_module": "@jupyter-widgets/base",
            "_view_module_version": "1.2.0",
            "_view_name": "LayoutView",
            "align_content": null,
            "align_items": null,
            "align_self": null,
            "border": null,
            "bottom": null,
            "display": null,
            "flex": null,
            "flex_flow": null,
            "grid_area": null,
            "grid_auto_columns": null,
            "grid_auto_flow": null,
            "grid_auto_rows": null,
            "grid_column": null,
            "grid_gap": null,
            "grid_row": null,
            "grid_template_areas": null,
            "grid_template_columns": null,
            "grid_template_rows": null,
            "height": null,
            "justify_content": null,
            "justify_items": null,
            "left": null,
            "margin": null,
            "max_height": null,
            "max_width": null,
            "min_height": null,
            "min_width": null,
            "object_fit": null,
            "object_position": null,
            "order": null,
            "overflow": null,
            "overflow_x": null,
            "overflow_y": null,
            "padding": null,
            "right": null,
            "top": null,
            "visibility": null,
            "width": null
          }
        },
        "fc471b1a5b0245d78890fe89b5d8b1f5": {
          "model_module": "@jupyter-widgets/controls",
          "model_name": "ProgressStyleModel",
          "model_module_version": "1.5.0",
          "state": {
            "_model_module": "@jupyter-widgets/controls",
            "_model_module_version": "1.5.0",
            "_model_name": "ProgressStyleModel",
            "_view_count": null,
            "_view_module": "@jupyter-widgets/base",
            "_view_module_version": "1.2.0",
            "_view_name": "StyleView",
            "bar_color": null,
            "description_width": ""
          }
        },
        "dc66a726f3f44989ae36929a9c0d7a68": {
          "model_module": "@jupyter-widgets/base",
          "model_name": "LayoutModel",
          "model_module_version": "1.2.0",
          "state": {
            "_model_module": "@jupyter-widgets/base",
            "_model_module_version": "1.2.0",
            "_model_name": "LayoutModel",
            "_view_count": null,
            "_view_module": "@jupyter-widgets/base",
            "_view_module_version": "1.2.0",
            "_view_name": "LayoutView",
            "align_content": null,
            "align_items": null,
            "align_self": null,
            "border": null,
            "bottom": null,
            "display": null,
            "flex": null,
            "flex_flow": null,
            "grid_area": null,
            "grid_auto_columns": null,
            "grid_auto_flow": null,
            "grid_auto_rows": null,
            "grid_column": null,
            "grid_gap": null,
            "grid_row": null,
            "grid_template_areas": null,
            "grid_template_columns": null,
            "grid_template_rows": null,
            "height": null,
            "justify_content": null,
            "justify_items": null,
            "left": null,
            "margin": null,
            "max_height": null,
            "max_width": null,
            "min_height": null,
            "min_width": null,
            "object_fit": null,
            "object_position": null,
            "order": null,
            "overflow": null,
            "overflow_x": null,
            "overflow_y": null,
            "padding": null,
            "right": null,
            "top": null,
            "visibility": null,
            "width": null
          }
        },
        "8844ebdeff7642a596b4bceead9b6a22": {
          "model_module": "@jupyter-widgets/controls",
          "model_name": "DescriptionStyleModel",
          "model_module_version": "1.5.0",
          "state": {
            "_model_module": "@jupyter-widgets/controls",
            "_model_module_version": "1.5.0",
            "_model_name": "DescriptionStyleModel",
            "_view_count": null,
            "_view_module": "@jupyter-widgets/base",
            "_view_module_version": "1.2.0",
            "_view_name": "StyleView",
            "description_width": ""
          }
        }
      }
    }
  },
  "cells": [
    {
      "cell_type": "code",
      "execution_count": null,
      "metadata": {
        "colab": {
          "base_uri": "https://localhost:8080/"
        },
        "id": "dhNh2g6OYMbD",
        "outputId": "df9cd053-7446-4a6a-fcc2-6cb2e75ff12b"
      },
      "outputs": [
        {
          "output_type": "stream",
          "name": "stdout",
          "text": [
            "Looking in indexes: https://pypi.org/simple, https://us-python.pkg.dev/colab-wheels/public/simple/\n",
            "Collecting datasets\n",
            "  Downloading datasets-2.7.1-py3-none-any.whl (451 kB)\n",
            "\u001b[K     |████████████████████████████████| 451 kB 13.3 MB/s \n",
            "\u001b[?25hCollecting transformers\n",
            "  Downloading transformers-4.25.1-py3-none-any.whl (5.8 MB)\n",
            "\u001b[K     |████████████████████████████████| 5.8 MB 34.7 MB/s \n",
            "\u001b[?25hCollecting seqeval\n",
            "  Downloading seqeval-1.2.2.tar.gz (43 kB)\n",
            "\u001b[K     |████████████████████████████████| 43 kB 894 kB/s \n",
            "\u001b[?25hCollecting responses<0.19\n",
            "  Downloading responses-0.18.0-py3-none-any.whl (38 kB)\n",
            "Collecting multiprocess\n",
            "  Downloading multiprocess-0.70.14-py38-none-any.whl (132 kB)\n",
            "\u001b[K     |████████████████████████████████| 132 kB 49.9 MB/s \n",
            "\u001b[?25hRequirement already satisfied: pandas in /usr/local/lib/python3.8/dist-packages (from datasets) (1.3.5)\n",
            "Requirement already satisfied: tqdm>=4.62.1 in /usr/local/lib/python3.8/dist-packages (from datasets) (4.64.1)\n",
            "Collecting xxhash\n",
            "  Downloading xxhash-3.1.0-cp38-cp38-manylinux_2_17_x86_64.manylinux2014_x86_64.whl (212 kB)\n",
            "\u001b[K     |████████████████████████████████| 212 kB 60.0 MB/s \n",
            "\u001b[?25hRequirement already satisfied: pyarrow>=6.0.0 in /usr/local/lib/python3.8/dist-packages (from datasets) (9.0.0)\n",
            "Requirement already satisfied: aiohttp in /usr/local/lib/python3.8/dist-packages (from datasets) (3.8.3)\n",
            "Requirement already satisfied: packaging in /usr/local/lib/python3.8/dist-packages (from datasets) (21.3)\n",
            "Requirement already satisfied: requests>=2.19.0 in /usr/local/lib/python3.8/dist-packages (from datasets) (2.23.0)\n",
            "Requirement already satisfied: fsspec[http]>=2021.11.1 in /usr/local/lib/python3.8/dist-packages (from datasets) (2022.11.0)\n",
            "Collecting huggingface-hub<1.0.0,>=0.2.0\n",
            "  Downloading huggingface_hub-0.11.1-py3-none-any.whl (182 kB)\n",
            "\u001b[K     |████████████████████████████████| 182 kB 63.7 MB/s \n",
            "\u001b[?25hRequirement already satisfied: dill<0.3.7 in /usr/local/lib/python3.8/dist-packages (from datasets) (0.3.6)\n",
            "Requirement already satisfied: pyyaml>=5.1 in /usr/local/lib/python3.8/dist-packages (from datasets) (6.0)\n",
            "Requirement already satisfied: numpy>=1.17 in /usr/local/lib/python3.8/dist-packages (from datasets) (1.21.6)\n",
            "Requirement already satisfied: attrs>=17.3.0 in /usr/local/lib/python3.8/dist-packages (from aiohttp->datasets) (22.1.0)\n",
            "Requirement already satisfied: async-timeout<5.0,>=4.0.0a3 in /usr/local/lib/python3.8/dist-packages (from aiohttp->datasets) (4.0.2)\n",
            "Requirement already satisfied: frozenlist>=1.1.1 in /usr/local/lib/python3.8/dist-packages (from aiohttp->datasets) (1.3.3)\n",
            "Requirement already satisfied: charset-normalizer<3.0,>=2.0 in /usr/local/lib/python3.8/dist-packages (from aiohttp->datasets) (2.1.1)\n",
            "Requirement already satisfied: aiosignal>=1.1.2 in /usr/local/lib/python3.8/dist-packages (from aiohttp->datasets) (1.3.1)\n",
            "Requirement already satisfied: multidict<7.0,>=4.5 in /usr/local/lib/python3.8/dist-packages (from aiohttp->datasets) (6.0.2)\n",
            "Requirement already satisfied: yarl<2.0,>=1.0 in /usr/local/lib/python3.8/dist-packages (from aiohttp->datasets) (1.8.1)\n",
            "Requirement already satisfied: filelock in /usr/local/lib/python3.8/dist-packages (from huggingface-hub<1.0.0,>=0.2.0->datasets) (3.8.0)\n",
            "Requirement already satisfied: typing-extensions>=3.7.4.3 in /usr/local/lib/python3.8/dist-packages (from huggingface-hub<1.0.0,>=0.2.0->datasets) (4.1.1)\n",
            "Requirement already satisfied: pyparsing!=3.0.5,>=2.0.2 in /usr/local/lib/python3.8/dist-packages (from packaging->datasets) (3.0.9)\n",
            "Requirement already satisfied: idna<3,>=2.5 in /usr/local/lib/python3.8/dist-packages (from requests>=2.19.0->datasets) (2.10)\n",
            "Requirement already satisfied: certifi>=2017.4.17 in /usr/local/lib/python3.8/dist-packages (from requests>=2.19.0->datasets) (2022.9.24)\n",
            "Requirement already satisfied: urllib3!=1.25.0,!=1.25.1,<1.26,>=1.21.1 in /usr/local/lib/python3.8/dist-packages (from requests>=2.19.0->datasets) (1.24.3)\n",
            "Requirement already satisfied: chardet<4,>=3.0.2 in /usr/local/lib/python3.8/dist-packages (from requests>=2.19.0->datasets) (3.0.4)\n",
            "Collecting urllib3!=1.25.0,!=1.25.1,<1.26,>=1.21.1\n",
            "  Downloading urllib3-1.25.11-py2.py3-none-any.whl (127 kB)\n",
            "\u001b[K     |████████████████████████████████| 127 kB 26.9 MB/s \n",
            "\u001b[?25hRequirement already satisfied: regex!=2019.12.17 in /usr/local/lib/python3.8/dist-packages (from transformers) (2022.6.2)\n",
            "Collecting tokenizers!=0.11.3,<0.14,>=0.11.1\n",
            "  Downloading tokenizers-0.13.2-cp38-cp38-manylinux_2_17_x86_64.manylinux2014_x86_64.whl (7.6 MB)\n",
            "\u001b[K     |████████████████████████████████| 7.6 MB 16.2 MB/s \n",
            "\u001b[?25hRequirement already satisfied: scikit-learn>=0.21.3 in /usr/local/lib/python3.8/dist-packages (from seqeval) (1.0.2)\n",
            "Requirement already satisfied: joblib>=0.11 in /usr/local/lib/python3.8/dist-packages (from scikit-learn>=0.21.3->seqeval) (1.2.0)\n",
            "Requirement already satisfied: threadpoolctl>=2.0.0 in /usr/local/lib/python3.8/dist-packages (from scikit-learn>=0.21.3->seqeval) (3.1.0)\n",
            "Requirement already satisfied: scipy>=1.1.0 in /usr/local/lib/python3.8/dist-packages (from scikit-learn>=0.21.3->seqeval) (1.7.3)\n",
            "Requirement already satisfied: python-dateutil>=2.7.3 in /usr/local/lib/python3.8/dist-packages (from pandas->datasets) (2.8.2)\n",
            "Requirement already satisfied: pytz>=2017.3 in /usr/local/lib/python3.8/dist-packages (from pandas->datasets) (2022.6)\n",
            "Requirement already satisfied: six>=1.5 in /usr/local/lib/python3.8/dist-packages (from python-dateutil>=2.7.3->pandas->datasets) (1.15.0)\n",
            "Building wheels for collected packages: seqeval\n",
            "  Building wheel for seqeval (setup.py) ... \u001b[?25l\u001b[?25hdone\n",
            "  Created wheel for seqeval: filename=seqeval-1.2.2-py3-none-any.whl size=16179 sha256=0b989ae1c40ea2441835befaed651e855f575d81b619e27484da76dde1e53f0b\n",
            "  Stored in directory: /root/.cache/pip/wheels/ad/5c/ba/05fa33fa5855777b7d686e843ec07452f22a66a138e290e732\n",
            "Successfully built seqeval\n",
            "Installing collected packages: urllib3, xxhash, tokenizers, responses, multiprocess, huggingface-hub, transformers, seqeval, datasets\n",
            "  Attempting uninstall: urllib3\n",
            "    Found existing installation: urllib3 1.24.3\n",
            "    Uninstalling urllib3-1.24.3:\n",
            "      Successfully uninstalled urllib3-1.24.3\n",
            "Successfully installed datasets-2.7.1 huggingface-hub-0.11.1 multiprocess-0.70.14 responses-0.18.0 seqeval-1.2.2 tokenizers-0.13.2 transformers-4.25.1 urllib3-1.25.11 xxhash-3.1.0\n"
          ]
        }
      ],
      "source": [
        "! pip install datasets transformers seqeval\n"
      ]
    },
    {
      "cell_type": "code",
      "source": [
        "from pathlib import Path\n",
        "from argparse import Namespace\n",
        "from typing import Union, List\n",
        "from fastprogress import progress_bar\n",
        "from typing_extensions import TypedDict\n",
        "import torch\n",
        "from datasets import Dataset, DatasetDict, load_metric\n",
        "import numpy as np\n",
        "from transformers import DataCollatorForTokenClassification, AutoTokenizer, AutoModelForTokenClassification, TrainingArguments, Trainer\n",
        "\n"
      ],
      "metadata": {
        "id": "6BcH4MwUYZoo"
      },
      "execution_count": null,
      "outputs": []
    },
    {
      "cell_type": "code",
      "source": [
        "from google.colab import drive\n",
        "drive.mount('/content/drive')"
      ],
      "metadata": {
        "colab": {
          "base_uri": "https://localhost:8080/"
        },
        "id": "XIdkBogZrvvk",
        "outputId": "7f90b3e3-6950-4962-fbe3-20f0363a8243"
      },
      "execution_count": null,
      "outputs": [
        {
          "output_type": "stream",
          "name": "stdout",
          "text": [
            "Mounted at /content/drive\n"
          ]
        }
      ]
    },
    {
      "cell_type": "code",
      "source": [
        "data_dir = Path(\"/content/drive/MyDrive/NLP 2022/nombank_train_dev_test/percentage\")\n",
        "data_dir2 = Path(\"/content/drive/MyDrive/NLP 2022/Results\")\n",
        "\n",
        "args = Namespace(\n",
        "    batch_size=16,\n",
        "    num_workers=4\n",
        ")\n",
        "\n",
        "train_data_path = data_dir / '%-train'\n",
        "valid_data_path = data_dir / 'dev.data'\n",
        "test_data_path = data_dir / 'test.data'\n",
        "\n",
        "outputFile = data_dir2 / 'BertBasePBD'"
      ],
      "metadata": {
        "id": "NLbbDj9UYkgQ"
      },
      "execution_count": null,
      "outputs": []
    },
    {
      "cell_type": "code",
      "source": [
        "SYMBOL_DICT = {\n",
        "    \"COMMA\": \",\",\n",
        "}\n",
        "\n",
        "LABEL_LIST = [\"NONE\", \"PRED\", \"ARG1\",\"SUPPORT\"]\n",
        "\n",
        "POS_LIST = [\"CC\", \"CD\", \"DT\", \"FW\", \"IN\", \"JJ\", \"JJR\", \"JJS\", \n",
        "            \"LS\", \"MD\", \"NN\", \"NNS\", \"NNP\", \"NNPS\", \"PDT\", \n",
        "            \"POS\", \"PRP\", \"PRP$\", \"RB\", \"RBR\", \"RBS\", \"SYM\", \n",
        "            \"TO\", \"UH\", \"VB\", \"VBD\", \"VBG\", \"VBN\", \"VBP\",\n",
        "            \"VBZ\", \"WDT\", \"WP\", \"WP$\", \"WRB\", \"PU\", \"EX\", \n",
        "            \"RP\"]\n",
        "BIO_TAG_CONVERSION_DICT = {\n",
        "    \".\": \"PU\",\n",
        "    \",\": \"PU\",\n",
        "    \"COMMA\": \"PU\",\n",
        "    \"$\": \"PU\",\n",
        "    \":\": \"PU\",\n",
        "    \"(\": \"PU\",\n",
        "    \")\": \"PU\",\n",
        "    \"``\": \"PU\",\n",
        "    \"''\": \"PU\",\n",
        "    \"#\": \"PU\"\n",
        "}\n",
        "BIO_TAG_LIST = [\"O\", \"B-NP\", \"I-NP\", \"B-VP\", \"I-VP\", \"B-PP\",\n",
        "                \"I-PP\", \"B-ADJP\", \"I-ADJP\", \"B-ADVP\", \"I-ADVP\",\n",
        "                \"B-SBAR\", \"I-SBAR\", \"B-PRT\", \"I-PRT\", \"B-CONJP\",\n",
        "                \"I-CONJP\", \"B-UCP\", \"I-UCP\"]\n"
      ],
      "metadata": {
        "id": "YXKLZikGYuVt"
      },
      "execution_count": null,
      "outputs": []
    },
    {
      "cell_type": "code",
      "source": [
        "class Word(TypedDict):\n",
        "  word: str\n",
        "  pos: str\n",
        "  biotag: str\n",
        "  label: Union[str, None]\n",
        "  distance: int\n",
        "\n",
        "def parse_input(input_file: Union[str, Path], drop_label = False) -> List[Union[List[Word], None]]:\n",
        "    \"\"\"\n",
        "    Parses the input file and returns a list of lists of words.\n",
        "    \"\"\"\n",
        "    pred_index=[]\n",
        "\n",
        "    with open(input_file, \"r\") as fp:\n",
        "        lines = fp.readlines()\n",
        "    sentences: List[Union[List[Word], None]] = []\n",
        "    last_sentence: List[Word] = []\n",
        "    print(\"Parsing input file lines...\")\n",
        "    line_no = 0\n",
        "    for line in progress_bar(lines):\n",
        "        line_no += 1\n",
        "        line = line.strip()\n",
        "        word_info = line.split(\"\\t\")\n",
        "        if len(word_info) >= 6 and word_info[5].strip() == \"PRED\":\n",
        "            pred_index.append(int(word_info[3].strip()));\n",
        "\n",
        "    print(pred_index)\n",
        "  \n",
        "    with open(input_file, \"r\") as f:\n",
        "        lines = f.readlines()\n",
        "    sentences: List[Union[List[Word], None]] = []\n",
        "    last_sentence: List[Word] = []\n",
        "    print(\"Parsing input file lines...\")\n",
        "    line_no = 0\n",
        "    for line in progress_bar(lines):\n",
        "        line_no += 1\n",
        "        line = line.strip()\n",
        "        word_info = line.split(\"\\t\")\n",
        "        if len(word_info) >= 5:\n",
        "            word_str = word_info[0].strip()\n",
        "            if word_str in SYMBOL_DICT:\n",
        "              word_str = SYMBOL_DICT[word_str]\n",
        "            pos = word_info[1].strip()\n",
        "            if pos in BIO_TAG_CONVERSION_DICT:\n",
        "              pos = BIO_TAG_CONVERSION_DICT[pos]\n",
        "            if pos not in POS_LIST:\n",
        "              print(f\"Warning: invalid POS on line {line_no} \\\"{pos}\\\", treated as PU.\")\n",
        "              pos = \"PU\"\n",
        "            biotag = word_info[2].strip()\n",
        "            if biotag not in BIO_TAG_LIST:\n",
        "              print(f\"Warning: invalid bio tag on line {line_no} \\\"{biotag}\\\", treated as O.\")\n",
        "              biotag = \"O\"\n",
        "            if len(word_info) >= 6:\n",
        "                label = word_info[5].strip()\n",
        "            else:\n",
        "                label = \"NONE\"\n",
        "            if label not in LABEL_LIST:\n",
        "              print(f\"Warning: invalid label on line {line_no} \\\"{label}\\\", treated as NONE.\")\n",
        "              label = \"NONE\"\n",
        "            distance = int(word_info[3].strip()) - int(pred_index[int(word_info[4])])\n",
        "            if drop_label:\n",
        "              label = None\n",
        "            word = Word(word=word_str, pos=pos, biotag=biotag, label=label, distance=distance)\n",
        "            last_sentence.append(word)\n",
        "        else:\n",
        "            if len(last_sentence) > 0:\n",
        "                sentences.append(last_sentence)\n",
        "            last_sentence = []\n",
        "    if len(last_sentence) > 0:\n",
        "        sentences.append(last_sentence)\n",
        "    return sentences"
      ],
      "metadata": {
        "id": "yIVyqZuaYxK0"
      },
      "execution_count": null,
      "outputs": []
    },
    {
      "cell_type": "code",
      "source": [
        "tokenizer = AutoTokenizer.from_pretrained(\"bert-base-uncased\")\n",
        "model = AutoModelForTokenClassification.from_pretrained(\"bert-base-uncased\", num_labels=len(LABEL_LIST))\n"
      ],
      "metadata": {
        "colab": {
          "base_uri": "https://localhost:8080/"
        },
        "id": "s8RDIW19rOyT",
        "outputId": "22a5d580-cae8-4977-a8ab-3f5ab7b76bb2"
      },
      "execution_count": null,
      "outputs": [
        {
          "output_type": "stream",
          "name": "stderr",
          "text": [
            "loading configuration file config.json from cache at /root/.cache/huggingface/hub/models--bert-base-uncased/snapshots/0a6aa9128b6194f4f3c4db429b6cb4891cdb421b/config.json\n",
            "Model config BertConfig {\n",
            "  \"_name_or_path\": \"bert-base-uncased\",\n",
            "  \"architectures\": [\n",
            "    \"BertForMaskedLM\"\n",
            "  ],\n",
            "  \"attention_probs_dropout_prob\": 0.1,\n",
            "  \"classifier_dropout\": null,\n",
            "  \"gradient_checkpointing\": false,\n",
            "  \"hidden_act\": \"gelu\",\n",
            "  \"hidden_dropout_prob\": 0.1,\n",
            "  \"hidden_size\": 768,\n",
            "  \"initializer_range\": 0.02,\n",
            "  \"intermediate_size\": 3072,\n",
            "  \"layer_norm_eps\": 1e-12,\n",
            "  \"max_position_embeddings\": 512,\n",
            "  \"model_type\": \"bert\",\n",
            "  \"num_attention_heads\": 12,\n",
            "  \"num_hidden_layers\": 12,\n",
            "  \"pad_token_id\": 0,\n",
            "  \"position_embedding_type\": \"absolute\",\n",
            "  \"transformers_version\": \"4.25.1\",\n",
            "  \"type_vocab_size\": 2,\n",
            "  \"use_cache\": true,\n",
            "  \"vocab_size\": 30522\n",
            "}\n",
            "\n",
            "loading file vocab.txt from cache at /root/.cache/huggingface/hub/models--bert-base-uncased/snapshots/0a6aa9128b6194f4f3c4db429b6cb4891cdb421b/vocab.txt\n",
            "loading file tokenizer.json from cache at /root/.cache/huggingface/hub/models--bert-base-uncased/snapshots/0a6aa9128b6194f4f3c4db429b6cb4891cdb421b/tokenizer.json\n",
            "loading file added_tokens.json from cache at None\n",
            "loading file special_tokens_map.json from cache at None\n",
            "loading file tokenizer_config.json from cache at /root/.cache/huggingface/hub/models--bert-base-uncased/snapshots/0a6aa9128b6194f4f3c4db429b6cb4891cdb421b/tokenizer_config.json\n",
            "loading configuration file config.json from cache at /root/.cache/huggingface/hub/models--bert-base-uncased/snapshots/0a6aa9128b6194f4f3c4db429b6cb4891cdb421b/config.json\n",
            "Model config BertConfig {\n",
            "  \"_name_or_path\": \"bert-base-uncased\",\n",
            "  \"architectures\": [\n",
            "    \"BertForMaskedLM\"\n",
            "  ],\n",
            "  \"attention_probs_dropout_prob\": 0.1,\n",
            "  \"classifier_dropout\": null,\n",
            "  \"gradient_checkpointing\": false,\n",
            "  \"hidden_act\": \"gelu\",\n",
            "  \"hidden_dropout_prob\": 0.1,\n",
            "  \"hidden_size\": 768,\n",
            "  \"initializer_range\": 0.02,\n",
            "  \"intermediate_size\": 3072,\n",
            "  \"layer_norm_eps\": 1e-12,\n",
            "  \"max_position_embeddings\": 512,\n",
            "  \"model_type\": \"bert\",\n",
            "  \"num_attention_heads\": 12,\n",
            "  \"num_hidden_layers\": 12,\n",
            "  \"pad_token_id\": 0,\n",
            "  \"position_embedding_type\": \"absolute\",\n",
            "  \"transformers_version\": \"4.25.1\",\n",
            "  \"type_vocab_size\": 2,\n",
            "  \"use_cache\": true,\n",
            "  \"vocab_size\": 30522\n",
            "}\n",
            "\n",
            "loading configuration file config.json from cache at /root/.cache/huggingface/hub/models--bert-base-uncased/snapshots/0a6aa9128b6194f4f3c4db429b6cb4891cdb421b/config.json\n",
            "Model config BertConfig {\n",
            "  \"_name_or_path\": \"bert-base-uncased\",\n",
            "  \"architectures\": [\n",
            "    \"BertForMaskedLM\"\n",
            "  ],\n",
            "  \"attention_probs_dropout_prob\": 0.1,\n",
            "  \"classifier_dropout\": null,\n",
            "  \"gradient_checkpointing\": false,\n",
            "  \"hidden_act\": \"gelu\",\n",
            "  \"hidden_dropout_prob\": 0.1,\n",
            "  \"hidden_size\": 768,\n",
            "  \"id2label\": {\n",
            "    \"0\": \"LABEL_0\",\n",
            "    \"1\": \"LABEL_1\",\n",
            "    \"2\": \"LABEL_2\",\n",
            "    \"3\": \"LABEL_3\"\n",
            "  },\n",
            "  \"initializer_range\": 0.02,\n",
            "  \"intermediate_size\": 3072,\n",
            "  \"label2id\": {\n",
            "    \"LABEL_0\": 0,\n",
            "    \"LABEL_1\": 1,\n",
            "    \"LABEL_2\": 2,\n",
            "    \"LABEL_3\": 3\n",
            "  },\n",
            "  \"layer_norm_eps\": 1e-12,\n",
            "  \"max_position_embeddings\": 512,\n",
            "  \"model_type\": \"bert\",\n",
            "  \"num_attention_heads\": 12,\n",
            "  \"num_hidden_layers\": 12,\n",
            "  \"pad_token_id\": 0,\n",
            "  \"position_embedding_type\": \"absolute\",\n",
            "  \"transformers_version\": \"4.25.1\",\n",
            "  \"type_vocab_size\": 2,\n",
            "  \"use_cache\": true,\n",
            "  \"vocab_size\": 30522\n",
            "}\n",
            "\n",
            "loading weights file pytorch_model.bin from cache at /root/.cache/huggingface/hub/models--bert-base-uncased/snapshots/0a6aa9128b6194f4f3c4db429b6cb4891cdb421b/pytorch_model.bin\n",
            "Some weights of the model checkpoint at bert-base-uncased were not used when initializing BertForTokenClassification: ['cls.predictions.transform.dense.weight', 'cls.predictions.decoder.weight', 'cls.predictions.transform.LayerNorm.bias', 'cls.predictions.bias', 'cls.predictions.transform.LayerNorm.weight', 'cls.seq_relationship.bias', 'cls.seq_relationship.weight', 'cls.predictions.transform.dense.bias']\n",
            "- This IS expected if you are initializing BertForTokenClassification from the checkpoint of a model trained on another task or with another architecture (e.g. initializing a BertForSequenceClassification model from a BertForPreTraining model).\n",
            "- This IS NOT expected if you are initializing BertForTokenClassification from the checkpoint of a model that you expect to be exactly identical (initializing a BertForSequenceClassification model from a BertForSequenceClassification model).\n",
            "Some weights of BertForTokenClassification were not initialized from the model checkpoint at bert-base-uncased and are newly initialized: ['classifier.weight', 'classifier.bias']\n",
            "You should probably TRAIN this model on a down-stream task to be able to use it for predictions and inference.\n"
          ]
        }
      ]
    },
    {
      "cell_type": "code",
      "source": [
        "def build_dataset_from_sentences(sentences, drop_label = False):\n",
        "  dataset_tokens = []\n",
        "  dataset_partitive_roles = []\n",
        "  dataset_pos_tags = []\n",
        "  dataset_bio_tags = []\n",
        "  dataset_distance = []\n",
        "\n",
        "  for sentence in sentences:\n",
        "    tokens = [word['word'] for word in sentence]\n",
        "    if not drop_label:\n",
        "      partitive_roles = [LABEL_LIST.index(word['label']) for word in sentence]\n",
        "    else:\n",
        "      partitive_roles = None\n",
        "    pos_tags = [POS_LIST.index(word['pos']) for word in sentence]\n",
        "    bio_tags = [BIO_TAG_LIST.index(word['biotag']) for word in sentence]\n",
        "    distance_tags = [word['distance'] for word in sentence]\n",
        "\n",
        "\n",
        "    dataset_tokens.append(tokens)\n",
        "    if not drop_label:\n",
        "      dataset_partitive_roles.append(partitive_roles)\n",
        "    dataset_pos_tags.append(pos_tags)\n",
        "    dataset_bio_tags.append(bio_tags)\n",
        "    dataset_distance.append(distance_tags)\n",
        "\n",
        "  if not drop_label:\n",
        "    dataset_dict = {\n",
        "        \"tokens\": dataset_tokens,\n",
        "        \"partitive_roles\": dataset_partitive_roles,\n",
        "        \"pos_tags\": dataset_pos_tags,\n",
        "        \"bio_tags\": dataset_bio_tags,\n",
        "        \"distance_tags\" : dataset_distance\n",
        "    }\n",
        "  else:\n",
        "    dataset_dict = {\n",
        "        \"tokens\": dataset_tokens,\n",
        "        \"pos_tags\": dataset_pos_tags,\n",
        "        \"bio_tags\": dataset_bio_tags,\n",
        "        \"distance_tags\" : dataset_distance\n",
        "    }\n",
        "  return Dataset.from_dict(dataset_dict)"
      ],
      "metadata": {
        "id": "Tyw_AKsFrZAh"
      },
      "execution_count": null,
      "outputs": []
    },
    {
      "cell_type": "code",
      "source": [
        "train_sentences = parse_input(train_data_path)\n",
        "valid_sentences = parse_input(valid_data_path)\n",
        "test_sentences = parse_input(test_data_path, drop_label=True)"
      ],
      "metadata": {
        "colab": {
          "base_uri": "https://localhost:8080/",
          "height": 782
        },
        "id": "BA-LcW1OjzUo",
        "outputId": "f3cfbed9-5b59-483a-9f9b-104ed217e865"
      },
      "execution_count": null,
      "outputs": [
        {
          "output_type": "stream",
          "name": "stdout",
          "text": [
            "Parsing input file lines...\n"
          ]
        },
        {
          "output_type": "display_data",
          "data": {
            "text/plain": [
              "<IPython.core.display.HTML object>"
            ],
            "text/html": [
              "\n",
              "<style>\n",
              "    /* Turns off some styling */\n",
              "    progress {\n",
              "        /* gets rid of default border in Firefox and Opera. */\n",
              "        border: none;\n",
              "        /* Needs to be in here for Safari polyfill so background images work as expected. */\n",
              "        background-size: auto;\n",
              "    }\n",
              "    progress:not([value]), progress:not([value])::-webkit-progress-bar {\n",
              "        background: repeating-linear-gradient(45deg, #7e7e7e, #7e7e7e 10px, #5c5c5c 10px, #5c5c5c 20px);\n",
              "    }\n",
              "    .progress-bar-interrupted, .progress-bar-interrupted::-webkit-progress-bar {\n",
              "        background: #F44336;\n",
              "    }\n",
              "</style>\n"
            ]
          },
          "metadata": {}
        },
        {
          "output_type": "display_data",
          "data": {
            "text/plain": [
              "<IPython.core.display.HTML object>"
            ],
            "text/html": [
              "\n",
              "    <div>\n",
              "      <progress value='63939' class='' max='63939' style='width:300px; height:20px; vertical-align: middle;'></progress>\n",
              "      100.00% [63939/63939 00:00&lt;00:00]\n",
              "    </div>\n",
              "    "
            ]
          },
          "metadata": {}
        },
        {
          "output_type": "stream",
          "name": "stdout",
          "text": [
            "[3, 21, 11, 22, 13, 16, 8, 3, 9, 6, 9, 6, 12, 5, 14, 7, 18, 10, 4, 8, 9, 28, 34, 26, 18, 14, 16, 5, 18, 6, 19, 16, 22, 9, 15, 10, 21, 36, 38, 25, 5, 27, 8, 20, 14, 10, 14, 13, 8, 16, 16, 26, 29, 15, 15, 14, 9, 8, 39, 12, 31, 18, 28, 4, 9, 11, 3, 2, 27, 5, 8, 15, 13, 7, 21, 4, 7, 32, 33, 12, 3, 17, 10, 18, 12, 13, 3, 9, 3, 16, 13, 3, 14, 4, 9, 40, 18, 9, 36, 19, 8, 11, 21, 34, 2, 3, 10, 7, 2, 7, 9, 7, 10, 14, 13, 8, 20, 13, 3, 16, 25, 16, 6, 8, 3, 16, 10, 15, 27, 17, 6, 19, 27, 11, 21, 30, 15, 25, 52, 23, 15, 16, 12, 26, 26, 7, 9, 3, 7, 12, 18, 3, 15, 4, 3, 27, 23, 15, 11, 9, 8, 5, 17, 3, 6, 6, 4, 20, 13, 5, 11, 21, 33, 14, 17, 10, 21, 2, 27, 18, 15, 18, 17, 6, 28, 4, 3, 14, 17, 12, 33, 20, 3, 36, 17, 3, 23, 2, 9, 8, 12, 18, 17, 2, 26, 22, 11, 16, 4, 8, 27, 11, 10, 10, 8, 8, 19, 6, 5, 6, 13, 32, 7, 11, 22, 12, 20, 8, 13, 5, 24, 27, 15, 6, 17, 10, 25, 4, 21, 7, 8, 10, 3, 3, 28, 25, 22, 25, 5, 16, 5, 4, 6, 13, 14, 4, 5, 16, 6, 12, 9, 19, 6, 14, 23, 24, 7, 25, 8, 10, 23, 5, 8, 9, 22, 2, 19, 22, 10, 11, 20, 9, 26, 24, 14, 16, 31, 15, 18, 3, 7, 5, 16, 8, 23, 6, 27, 12, 11, 21, 7, 32, 9, 8, 21, 29, 32, 29, 29, 32, 17, 11, 8, 8, 46, 26, 18, 7, 9, 12, 11, 12, 43, 7, 21, 22, 7, 5, 12, 7, 4, 11, 21, 7, 9, 24, 8, 10, 8, 12, 15, 4, 9, 16, 28, 8, 17, 11, 27, 35, 24, 16, 21, 28, 35, 12, 9, 8, 19, 7, 9, 28, 15, 19, 14, 15, 12, 20, 25, 7, 10, 15, 12, 21, 26, 7, 11, 2, 10, 32, 4, 4, 21, 32, 18, 18, 9, 32, 8, 34, 25, 9, 14, 7, 22, 3, 3, 19, 3, 18, 8, 18, 13, 4, 15, 28, 11, 9, 9, 42, 22, 34, 23, 33, 20, 15, 15, 11, 26, 8, 10, 12, 26, 22, 12, 28, 12, 6, 10, 18, 21, 9, 4, 36, 14, 13, 13, 13, 34, 24, 6, 14, 20, 11, 7, 8, 13, 17, 18, 8, 17, 8, 4, 4, 9, 12, 20, 7, 22, 15, 3, 12, 6, 9, 10, 7, 5, 15, 17, 11, 33, 10, 14, 5, 37, 40, 9, 12, 15, 21, 19, 19, 11, 10, 7, 14, 24, 36, 5, 12, 18, 17, 17, 4, 7, 2, 15, 13, 20, 21, 14, 17, 6, 6, 24, 20, 11, 17, 20, 32, 19, 13, 24, 29, 9, 30, 11, 4, 11, 4, 6, 11, 20, 8, 3, 18, 4, 3, 4, 21, 24, 5, 7, 7, 9, 10, 15, 39, 12, 29, 40, 15, 31, 39, 10, 12, 29, 3, 3, 5, 8, 18, 9, 19, 9, 14, 26, 24, 27, 21, 7, 18, 30, 24, 17, 6, 25, 12, 3, 13, 22, 12, 23, 10, 7, 15, 9, 13, 5, 6, 21, 24, 6, 13, 9, 11, 17, 3, 25, 3, 10, 21, 27, 9, 12, 10, 28, 34, 25, 9, 17, 13, 23, 9, 8, 26, 11, 9, 20, 7, 22, 22, 8, 12, 13, 24, 19, 12, 42, 5, 14, 15, 17, 30, 10, 2, 16, 28, 10, 28, 10, 29, 6, 5, 15, 10, 33, 38, 11, 33, 19, 15, 25, 3, 16, 2, 22, 29, 10, 10, 3, 18, 3, 28, 22, 13, 17, 8, 30, 5, 5, 3, 19, 3, 11, 7, 3, 12, 12, 12, 21, 13, 23, 7, 17, 24, 25, 9, 25, 20, 11, 16, 10, 3, 6, 10, 11, 7, 3, 17, 3, 6, 14, 10, 12, 8, 6, 9, 20, 19, 22, 14, 11, 7, 14, 33, 17, 23, 23, 17, 9, 12, 19, 7, 20, 27, 3, 14, 27, 16, 2, 5, 7, 17, 33, 42, 19, 21, 18, 4, 6, 10, 4, 7, 6, 3, 3, 3, 15, 4, 7, 15, 25, 21, 17, 5, 5, 14, 7, 32, 25, 7, 29, 7, 18, 4, 4, 20, 11, 12, 12, 17, 17, 22, 11, 3, 6, 8, 22, 23, 4, 11, 31, 8, 10, 12, 45, 15, 24, 20, 23, 6, 7, 2, 8, 4, 3, 20, 9, 10, 18, 6, 10, 9, 13, 11, 26, 27, 17, 27, 13, 9, 9, 14, 9, 10, 26, 7, 41, 10, 7, 23, 10, 18, 21, 20, 23, 19, 12, 25, 28, 4, 3, 9, 3, 13, 16, 19, 9, 8, 28, 26, 7, 27, 28, 14, 24, 3, 5, 14, 11, 3, 23, 12, 9, 9, 4, 16, 11, 11, 11, 19, 22, 22, 27, 2, 2, 12, 24, 9, 16, 6, 21, 9, 14, 7, 8, 3, 10, 5, 9, 23, 13, 21, 7, 6, 25, 7, 7, 6, 15, 22, 16, 48, 7, 12, 35, 7, 30, 8, 21, 8, 19, 22, 3, 9, 12, 17, 7, 43, 46, 15, 6, 9, 18, 6, 19, 9, 24, 13, 17, 6, 30, 15, 12, 8, 12, 20, 29, 13, 6, 11, 25, 17, 3, 16, 8, 29, 7, 18, 30, 4, 9, 5, 9, 22, 25, 28, 11, 13, 19, 23, 9, 12, 3, 8, 15, 6, 6, 22, 4, 21, 24, 21, 20, 9, 37, 13, 16, 3, 6, 8, 13, 21, 10, 15, 6, 3, 11, 3, 12, 26, 20, 6, 24, 16, 30, 3, 14, 8, 8, 6, 7, 3, 6, 18, 26, 6, 15, 20, 4, 15, 3, 18, 5, 9, 5, 9, 9, 22, 17, 3, 11, 40, 13, 20, 5, 4, 7, 5, 7, 6, 16, 13, 10, 9, 8, 24, 21, 14, 29, 22, 14, 13, 24, 3, 24, 18, 7, 6, 3, 10, 14, 8, 4, 12, 3, 17, 15, 16, 5, 7, 19, 5, 4, 4, 7, 5, 6, 16, 2, 17, 3, 26, 32, 12, 17, 8, 13, 12, 5, 8, 3, 19, 7, 6, 3, 3, 8, 3, 5, 17, 9, 6, 4, 25, 11, 28, 14, 9, 21, 11, 18, 38, 45, 10, 5, 8, 17, 5, 25, 5, 19, 19, 8, 11, 21, 17, 6, 14, 9, 11, 17, 20, 8, 10, 27, 19, 10, 18, 21, 28, 2, 2, 24, 28, 23, 5, 15, 5, 10, 15, 13, 8, 13, 3, 15, 8, 8, 13, 21, 8, 3, 3, 22, 5, 22, 31, 17, 26, 44, 9, 3, 13, 11, 17, 14, 6, 12, 12, 19, 12, 4, 4, 7, 4, 4, 6, 4, 4, 8, 5, 7, 7, 36, 25, 9, 19, 3, 8, 26, 20, 10, 9, 9, 3, 16, 20, 9, 22, 5, 26, 3, 15, 7, 8, 3, 4, 8, 3, 7, 3, 8, 3, 4, 18, 3, 6, 8, 29, 16, 7, 9, 14, 4, 27, 7, 17, 4, 11, 17, 8, 3, 9, 3, 32, 16, 4, 4, 7, 6, 12, 4, 9, 4, 17, 10, 7, 3, 8, 21, 13, 4, 12, 14, 6, 9, 3, 27, 5, 4, 17, 16, 34, 12, 3, 5, 3, 24, 21, 12, 11, 4, 6, 3, 3, 31, 6, 5, 6, 6, 7, 27, 5, 23, 6, 21, 15, 13, 3, 15, 19, 5, 6, 2, 2, 18, 6, 5, 19, 6, 4, 11, 25, 36, 14, 22, 32, 27, 31, 35, 10, 18, 11, 17, 19, 6, 12, 16, 10, 17, 18, 13, 22, 16, 20, 5, 23, 4, 9, 14, 6, 4, 10, 13, 33, 44, 10, 11, 28, 8, 4, 11, 6, 9, 11, 10, 24, 17, 8, 20, 17, 23, 3, 6, 16, 34, 12, 12, 9, 27, 41, 49, 26, 6, 17, 9, 22, 17, 9, 18, 28, 13, 23, 32, 7, 12, 10, 22, 5, 16, 23, 15, 4, 7, 9, 10, 9, 9, 18, 25, 24, 15, 14, 15, 18, 27, 21, 12, 24, 26, 34, 41, 8, 8, 3, 4, 26, 12, 14, 20, 27, 7, 3, 20, 9, 9, 23, 4, 24, 25, 14, 17, 11, 8, 13, 11, 9, 13, 18, 28, 31, 14, 22, 27, 8, 13, 15, 5, 9, 24, 16, 41, 10, 15, 35, 27, 4, 22, 3, 17, 30, 19, 8, 22, 20, 7, 25, 34, 19, 8, 17, 14, 11, 8, 6, 19, 21, 2, 8, 30, 18, 20, 7, 19, 11, 38, 37, 19, 28, 15, 6, 13, 7, 23, 26, 20, 18, 25, 14, 12, 21, 9, 6, 13, 7, 13, 24, 13, 14, 12, 3, 8, 25, 8, 16, 9, 10, 29, 24, 3, 9, 3, 10, 3, 8, 3, 20, 5, 19, 15, 2, 22, 25, 21, 3, 17, 28, 22, 3, 5, 17, 8, 18, 35, 10, 13, 18, 32, 7, 9, 26, 5, 14, 23, 6, 4, 8, 26, 32, 5, 7, 12, 7, 7, 12, 13, 6, 9, 17, 14, 20, 3, 20, 40, 22, 14, 20, 10, 9, 6, 19, 9, 9, 6, 6, 11, 8, 10, 11, 26, 9, 3, 16, 19, 29, 18, 14, 23, 6, 3, 9, 24, 8, 3, 30, 10, 7, 23, 22, 3, 12, 17, 28, 18, 5, 20, 16, 12, 11, 26, 29, 17, 7, 5, 18, 8, 7, 4, 16, 26, 18, 6, 18, 6, 3, 22, 11, 3, 7, 3, 13, 23, 15, 11, 18, 5, 16, 5, 16, 19, 10, 13, 7, 10, 6, 10, 23, 25, 13, 5, 5, 9, 3, 4, 12, 2, 13, 14, 2, 26, 21, 5, 16, 26, 16, 16, 12, 4, 20, 13, 11, 40, 10, 21, 42, 12, 8, 16, 5, 10, 20, 28, 11, 20, 6, 15, 10, 23, 16, 9, 3, 11, 3, 7, 37, 46, 4, 18, 32, 4, 3, 2, 15, 2, 5, 3, 3, 6, 17, 7, 11, 9, 9, 20, 9, 17, 22, 22, 9, 7, 11, 25, 13, 6, 7, 3, 8, 8, 6, 9, 5, 21, 3, 5, 6, 12, 8, 25, 8, 6, 4, 4, 8, 3, 18, 3, 7, 12, 11, 27, 30, 7, 5, 9, 4, 8, 3, 15, 15, 3, 14, 19, 10, 23, 15, 23, 15, 41, 6, 3, 10, 3, 8, 3, 8, 3, 9, 13, 7, 9, 8, 8, 3, 10, 17, 25, 18, 9, 3, 8, 8, 9, 17, 8, 6, 9, 9, 8, 12, 13, 17, 24, 17, 16, 9, 13, 12, 9, 6, 14, 13, 22, 4, 3, 4, 3, 10, 3, 20, 3, 3, 19, 19, 9, 22, 41, 13, 12, 19, 14, 29, 5, 6, 5, 6, 6, 6, 11, 21, 10, 6, 21, 30, 10, 8, 29, 4, 14, 7, 17, 24, 11, 14, 8, 21, 9, 3, 10, 3, 4, 21, 31, 17, 8, 11, 27, 4, 5, 9, 4, 8, 11, 9, 4, 7, 3, 5, 23, 8, 12, 9, 18, 5, 22, 17, 34, 6, 9, 4, 24, 8, 10, 9, 3, 5, 4, 16, 4, 24, 10, 7, 6, 9, 8, 14, 3, 10, 3, 28, 22, 13, 26, 26, 18, 9, 11, 20, 5, 8, 3, 3, 9, 6, 11, 19, 20, 17, 9, 5, 12, 27, 5, 6, 7, 6, 12, 13, 5, 19, 6, 7, 22, 22, 34, 14, 9, 8, 12, 27, 2, 5, 11, 38, 17, 12, 9, 16, 20, 10, 17, 21, 11, 14, 21, 34, 8, 3, 11, 5, 10, 3, 3, 16, 18, 3, 9, 8, 24, 20, 9, 11, 18, 31, 22, 9, 6, 24, 13, 16, 8, 17, 13, 4, 28, 31, 24, 8, 8, 6, 3, 34, 9, 17, 8, 22, 27, 19, 6, 11, 19, 8, 11, 25, 21, 18, 25, 3, 11, 19, 2, 25, 5, 16, 3, 12, 21, 21, 16, 28, 8, 4, 6, 14, 5, 12, 6, 7, 16, 10, 5, 13, 7, 6, 4, 10, 15, 6, 11, 22, 25, 12, 9, 26, 25, 12, 15, 15, 16, 19, 20, 19, 10, 14, 21, 11, 14, 6, 8, 3, 9, 9, 10, 3, 22, 7, 20, 14, 3, 9, 18, 3, 17, 3, 39, 20, 27, 8, 7, 3, 14, 3, 13, 28, 8, 15, 20, 6, 9, 7, 7, 9, 41, 11, 3, 14, 37, 25, 34, 11, 10, 24, 18, 12, 15, 12, 6, 16, 5, 9, 5, 8, 7, 28, 32, 8, 26, 4, 14, 21, 24, 29, 30, 6, 14, 10, 27, 9, 33, 2, 22, 13, 20, 23, 11, 24, 6, 4, 22, 30, 27, 12, 18, 13, 7, 12, 9, 28, 7, 7, 9, 8, 6, 8, 15, 9, 10, 22, 33, 4, 3, 9, 22, 21, 31, 4, 18, 17, 19, 6, 32, 11, 19, 16, 7, 7, 26, 4, 14, 19, 8, 8, 3, 3, 9, 18, 3, 4, 15, 4, 7, 3, 5, 7, 6, 4, 13, 8, 3, 19, 8, 10]\n",
            "Parsing input file lines...\n"
          ]
        },
        {
          "output_type": "display_data",
          "data": {
            "text/plain": [
              "<IPython.core.display.HTML object>"
            ],
            "text/html": [
              "\n",
              "<style>\n",
              "    /* Turns off some styling */\n",
              "    progress {\n",
              "        /* gets rid of default border in Firefox and Opera. */\n",
              "        border: none;\n",
              "        /* Needs to be in here for Safari polyfill so background images work as expected. */\n",
              "        background-size: auto;\n",
              "    }\n",
              "    progress:not([value]), progress:not([value])::-webkit-progress-bar {\n",
              "        background: repeating-linear-gradient(45deg, #7e7e7e, #7e7e7e 10px, #5c5c5c 10px, #5c5c5c 20px);\n",
              "    }\n",
              "    .progress-bar-interrupted, .progress-bar-interrupted::-webkit-progress-bar {\n",
              "        background: #F44336;\n",
              "    }\n",
              "</style>\n"
            ]
          },
          "metadata": {}
        },
        {
          "output_type": "display_data",
          "data": {
            "text/plain": [
              "<IPython.core.display.HTML object>"
            ],
            "text/html": [
              "\n",
              "    <div>\n",
              "      <progress value='63939' class='' max='63939' style='width:300px; height:20px; vertical-align: middle;'></progress>\n",
              "      100.00% [63939/63939 00:00&lt;00:00]\n",
              "    </div>\n",
              "    "
            ]
          },
          "metadata": {}
        },
        {
          "output_type": "stream",
          "name": "stdout",
          "text": [
            "Warning: invalid POS on line 14996 \"/\", treated as PU.\n",
            "Warning: invalid POS on line 23018 \"-\", treated as PU.\n",
            "Warning: invalid POS on line 23020 \"-\", treated as PU.\n",
            "Warning: invalid POS on line 23036 \"/\", treated as PU.\n",
            "Warning: invalid POS on line 24114 \"/\", treated as PU.\n",
            "Warning: invalid POS on line 24124 \"/\", treated as PU.\n",
            "Warning: invalid POS on line 31275 \"/\", treated as PU.\n",
            "Warning: invalid POS on line 35203 \"-\", treated as PU.\n",
            "Warning: invalid POS on line 35319 \"/\", treated as PU.\n",
            "Warning: invalid POS on line 42913 \"-\", treated as PU.\n",
            "Warning: invalid POS on line 45420 \"/\", treated as PU.\n",
            "Warning: invalid POS on line 56824 \"-\", treated as PU.\n",
            "Warning: invalid POS on line 56826 \"-\", treated as PU.\n",
            "Warning: invalid POS on line 57778 \"-\", treated as PU.\n",
            "Warning: invalid POS on line 57913 \"-\", treated as PU.\n",
            "Warning: invalid POS on line 57915 \"-\", treated as PU.\n",
            "Warning: invalid POS on line 57953 \"-\", treated as PU.\n",
            "Warning: invalid POS on line 57955 \"-\", treated as PU.\n",
            "Warning: invalid POS on line 57969 \"-\", treated as PU.\n",
            "Warning: invalid POS on line 57971 \"-\", treated as PU.\n",
            "Warning: invalid POS on line 57995 \"-\", treated as PU.\n",
            "Warning: invalid POS on line 57997 \"-\", treated as PU.\n",
            "Warning: invalid POS on line 58006 \"-\", treated as PU.\n",
            "Warning: invalid POS on line 58008 \"-\", treated as PU.\n",
            "Warning: invalid POS on line 61709 \"-\", treated as PU.\n",
            "Parsing input file lines...\n"
          ]
        },
        {
          "output_type": "display_data",
          "data": {
            "text/plain": [
              "<IPython.core.display.HTML object>"
            ],
            "text/html": [
              "\n",
              "<style>\n",
              "    /* Turns off some styling */\n",
              "    progress {\n",
              "        /* gets rid of default border in Firefox and Opera. */\n",
              "        border: none;\n",
              "        /* Needs to be in here for Safari polyfill so background images work as expected. */\n",
              "        background-size: auto;\n",
              "    }\n",
              "    progress:not([value]), progress:not([value])::-webkit-progress-bar {\n",
              "        background: repeating-linear-gradient(45deg, #7e7e7e, #7e7e7e 10px, #5c5c5c 10px, #5c5c5c 20px);\n",
              "    }\n",
              "    .progress-bar-interrupted, .progress-bar-interrupted::-webkit-progress-bar {\n",
              "        background: #F44336;\n",
              "    }\n",
              "</style>\n"
            ]
          },
          "metadata": {}
        },
        {
          "output_type": "display_data",
          "data": {
            "text/plain": [
              "<IPython.core.display.HTML object>"
            ],
            "text/html": [
              "\n",
              "    <div>\n",
              "      <progress value='2310' class='' max='2310' style='width:300px; height:20px; vertical-align: middle;'></progress>\n",
              "      100.00% [2310/2310 00:00&lt;00:00]\n",
              "    </div>\n",
              "    "
            ]
          },
          "metadata": {}
        },
        {
          "output_type": "stream",
          "name": "stdout",
          "text": [
            "[6, 16, 19, 18, 7, 4, 15, 6, 5, 15, 11, 19, 7, 21, 24, 26, 9, 8, 30, 10, 8, 6, 9, 31, 20, 34, 5, 8, 11, 23, 17, 6, 7, 37, 17, 22, 9, 17, 6, 7, 12, 17, 21, 17, 16, 25, 5, 14, 15, 10, 13, 46, 23, 15, 5, 26, 33, 14, 32, 9, 16, 5, 15, 10, 11, 22, 4, 18, 7, 8, 8, 12, 5, 9, 11, 22, 16, 24, 3, 13, 5, 22, 9]\n",
            "Parsing input file lines...\n"
          ]
        },
        {
          "output_type": "display_data",
          "data": {
            "text/plain": [
              "<IPython.core.display.HTML object>"
            ],
            "text/html": [
              "\n",
              "<style>\n",
              "    /* Turns off some styling */\n",
              "    progress {\n",
              "        /* gets rid of default border in Firefox and Opera. */\n",
              "        border: none;\n",
              "        /* Needs to be in here for Safari polyfill so background images work as expected. */\n",
              "        background-size: auto;\n",
              "    }\n",
              "    progress:not([value]), progress:not([value])::-webkit-progress-bar {\n",
              "        background: repeating-linear-gradient(45deg, #7e7e7e, #7e7e7e 10px, #5c5c5c 10px, #5c5c5c 20px);\n",
              "    }\n",
              "    .progress-bar-interrupted, .progress-bar-interrupted::-webkit-progress-bar {\n",
              "        background: #F44336;\n",
              "    }\n",
              "</style>\n"
            ]
          },
          "metadata": {}
        },
        {
          "output_type": "display_data",
          "data": {
            "text/plain": [
              "<IPython.core.display.HTML object>"
            ],
            "text/html": [
              "\n",
              "    <div>\n",
              "      <progress value='2310' class='' max='2310' style='width:300px; height:20px; vertical-align: middle;'></progress>\n",
              "      100.00% [2310/2310 00:00&lt;00:00]\n",
              "    </div>\n",
              "    "
            ]
          },
          "metadata": {}
        },
        {
          "output_type": "stream",
          "name": "stdout",
          "text": [
            "Warning: invalid POS on line 929 \"/\", treated as PU.\n",
            "Parsing input file lines...\n"
          ]
        },
        {
          "output_type": "display_data",
          "data": {
            "text/plain": [
              "<IPython.core.display.HTML object>"
            ],
            "text/html": [
              "\n",
              "<style>\n",
              "    /* Turns off some styling */\n",
              "    progress {\n",
              "        /* gets rid of default border in Firefox and Opera. */\n",
              "        border: none;\n",
              "        /* Needs to be in here for Safari polyfill so background images work as expected. */\n",
              "        background-size: auto;\n",
              "    }\n",
              "    progress:not([value]), progress:not([value])::-webkit-progress-bar {\n",
              "        background: repeating-linear-gradient(45deg, #7e7e7e, #7e7e7e 10px, #5c5c5c 10px, #5c5c5c 20px);\n",
              "    }\n",
              "    .progress-bar-interrupted, .progress-bar-interrupted::-webkit-progress-bar {\n",
              "        background: #F44336;\n",
              "    }\n",
              "</style>\n"
            ]
          },
          "metadata": {}
        },
        {
          "output_type": "display_data",
          "data": {
            "text/plain": [
              "<IPython.core.display.HTML object>"
            ],
            "text/html": [
              "\n",
              "    <div>\n",
              "      <progress value='4428' class='' max='4428' style='width:300px; height:20px; vertical-align: middle;'></progress>\n",
              "      100.00% [4428/4428 00:00&lt;00:00]\n",
              "    </div>\n",
              "    "
            ]
          },
          "metadata": {}
        },
        {
          "output_type": "stream",
          "name": "stdout",
          "text": [
            "[31, 25, 4, 13, 16, 7, 9, 8, 11, 22, 25, 15, 15, 7, 17, 6, 9, 24, 8, 19, 9, 17, 14, 7, 8, 20, 10, 16, 7, 20, 25, 26, 12, 13, 16, 28, 4, 25, 27, 39, 20, 30, 39, 14, 8, 8, 9, 20, 26, 13, 16, 19, 14, 32, 38, 10, 3, 11, 7, 9, 8, 11, 22, 7, 6, 15, 15, 33, 7, 26, 16, 19, 23, 26, 14, 19, 10, 13, 15, 2, 39, 17, 20, 24, 12, 5, 20, 8, 9, 4, 12, 11, 22, 26, 7, 7, 13, 17, 24, 29, 31, 2, 18, 37, 26, 18, 12, 11, 16, 4, 14, 18, 18, 12, 4, 2, 5, 8, 10, 21, 15, 12, 30, 13, 6, 25, 19, 12, 3, 9, 11, 21, 15, 25, 22, 12, 28, 13, 10, 14, 19, 4, 17, 8, 7, 24, 15, 13, 13, 28]\n",
            "Parsing input file lines...\n"
          ]
        },
        {
          "output_type": "display_data",
          "data": {
            "text/plain": [
              "<IPython.core.display.HTML object>"
            ],
            "text/html": [
              "\n",
              "<style>\n",
              "    /* Turns off some styling */\n",
              "    progress {\n",
              "        /* gets rid of default border in Firefox and Opera. */\n",
              "        border: none;\n",
              "        /* Needs to be in here for Safari polyfill so background images work as expected. */\n",
              "        background-size: auto;\n",
              "    }\n",
              "    progress:not([value]), progress:not([value])::-webkit-progress-bar {\n",
              "        background: repeating-linear-gradient(45deg, #7e7e7e, #7e7e7e 10px, #5c5c5c 10px, #5c5c5c 20px);\n",
              "    }\n",
              "    .progress-bar-interrupted, .progress-bar-interrupted::-webkit-progress-bar {\n",
              "        background: #F44336;\n",
              "    }\n",
              "</style>\n"
            ]
          },
          "metadata": {}
        },
        {
          "output_type": "display_data",
          "data": {
            "text/plain": [
              "<IPython.core.display.HTML object>"
            ],
            "text/html": [
              "\n",
              "    <div>\n",
              "      <progress value='4428' class='' max='4428' style='width:300px; height:20px; vertical-align: middle;'></progress>\n",
              "      100.00% [4428/4428 00:00&lt;00:00]\n",
              "    </div>\n",
              "    "
            ]
          },
          "metadata": {}
        }
      ]
    },
    {
      "cell_type": "code",
      "source": [
        "label_all_tokens = True\n",
        "\n",
        "def tokenize_and_align_labels(examples):\n",
        "    tokenized_inputs = tokenizer(examples[\"tokens\"], truncation=True, is_split_into_words=True)\n",
        "\n",
        "    if \"partitive_roles\" in examples:\n",
        "      labels = []\n",
        "      for i, label in enumerate(examples[\"partitive_roles\"]):\n",
        "          word_ids = tokenized_inputs.word_ids(batch_index=i)\n",
        "          previous_word_idx = None\n",
        "          label_ids = []\n",
        "          for word_idx in word_ids:\n",
        "              # Special tokens have a word id that is None. We set the label to -100 so they are automatically\n",
        "              # ignored in the loss function.\n",
        "              if word_idx is None:\n",
        "                  label_ids.append(-100)\n",
        "              # We set the label for the first token of each word.\n",
        "              elif word_idx != previous_word_idx:\n",
        "                  label_ids.append(label[word_idx])\n",
        "              # For the other tokens in a word, we set the label to either the current label or -100, depending on\n",
        "              # the label_all_tokens flag.\n",
        "              else:\n",
        "                  label_ids.append(label[word_idx] if label_all_tokens else -100)\n",
        "              previous_word_idx = word_idx\n",
        "\n",
        "          labels.append(label_ids)\n",
        "\n",
        "      tokenized_inputs[\"labels\"] = labels\n",
        "    return tokenized_inputs\n"
      ],
      "metadata": {
        "id": "lZowK9N6rnmU"
      },
      "execution_count": null,
      "outputs": []
    },
    {
      "cell_type": "code",
      "source": [
        "train_raw_dataset = build_dataset_from_sentences(train_sentences)\n",
        "valid_raw_dataset = build_dataset_from_sentences(valid_sentences)\n",
        "test_raw_dataset = build_dataset_from_sentences(test_sentences, drop_label=True)\n",
        "\n",
        "raw_datasets = DatasetDict(train=train_raw_dataset, valid=valid_raw_dataset, test=test_raw_dataset)"
      ],
      "metadata": {
        "id": "AO0xQEfxr_mh"
      },
      "execution_count": null,
      "outputs": []
    },
    {
      "cell_type": "code",
      "source": [
        "tokenized_datasets = raw_datasets.map(tokenize_and_align_labels, batched=True)\n"
      ],
      "metadata": {
        "colab": {
          "base_uri": "https://localhost:8080/",
          "height": 113,
          "referenced_widgets": [
            "18b7784f4fbc4abfbfebb9b0dfc977e5",
            "91b334ca10f343b3ada46d2189a0ce85",
            "8bd85957b7ce48c998cf5e5735f1dce1",
            "b3632703e7b14046b20b8fbc6d962d17",
            "19657cfbb15a4e8fa0247a477d8a288e",
            "366b3f7095ab486e851e56b1b4f67284",
            "7471228b37564051a3cd8d6b6492242c",
            "e665cb01fabe4d1295c7a796a55357f5",
            "1ae4973fa3ad4c6381597af43a437aa9",
            "f59af0b093f042d1bd20241cdce7f798",
            "282c6e2982e74e1b951a951d5be0d09d",
            "ef7777d77a8b4ce69b7f179843d31825",
            "adf495bc9a0d455e98e6d1123db9f61e",
            "d094db45a4734cbabed9b94fe6668744",
            "e01d54e495a04040800758f45b4397be",
            "7d827c954f07482d8363747b9d1c9071",
            "b32ece5acf524d3ea234041ca42bd811",
            "114cb91d373943c8a9975a20cf73a338",
            "c7a6dbcacb634fceb8d8b58d49e5bdf9",
            "a44ae6e322a14082858a17a11367b563",
            "c159869f5647408c8cb17129a27a45e5",
            "2f14ec6cb44247f69296eb32d5700eca",
            "a4f2d1c4da0c493185d2be60ea1b9861",
            "b79e567b39d946cbae6e036e60b3c052",
            "74eac5091a294abbb0bc3d7588d41567",
            "b1027155885945be85b2b22bdd76841b",
            "0e731cd013aa4d908393361045b7044b",
            "e23ed2205d014fc3912d2318e8b68051",
            "bd2c7f01e1384042bdd885963187e389",
            "ad642b24a4204005a9b8fb310e58f199",
            "fc471b1a5b0245d78890fe89b5d8b1f5",
            "dc66a726f3f44989ae36929a9c0d7a68",
            "8844ebdeff7642a596b4bceead9b6a22"
          ]
        },
        "id": "DleAmCMgsIel",
        "outputId": "6f67a97e-3bfc-40ab-d74e-abbae44c7be6"
      },
      "execution_count": null,
      "outputs": [
        {
          "output_type": "display_data",
          "data": {
            "text/plain": [
              "  0%|          | 0/3 [00:00<?, ?ba/s]"
            ],
            "application/vnd.jupyter.widget-view+json": {
              "version_major": 2,
              "version_minor": 0,
              "model_id": "18b7784f4fbc4abfbfebb9b0dfc977e5"
            }
          },
          "metadata": {}
        },
        {
          "output_type": "display_data",
          "data": {
            "text/plain": [
              "  0%|          | 0/1 [00:00<?, ?ba/s]"
            ],
            "application/vnd.jupyter.widget-view+json": {
              "version_major": 2,
              "version_minor": 0,
              "model_id": "ef7777d77a8b4ce69b7f179843d31825"
            }
          },
          "metadata": {}
        },
        {
          "output_type": "display_data",
          "data": {
            "text/plain": [
              "  0%|          | 0/1 [00:00<?, ?ba/s]"
            ],
            "application/vnd.jupyter.widget-view+json": {
              "version_major": 2,
              "version_minor": 0,
              "model_id": "a4f2d1c4da0c493185d2be60ea1b9861"
            }
          },
          "metadata": {}
        }
      ]
    },
    {
      "cell_type": "code",
      "source": [
        "def compute_metrics(p):\n",
        "    predictions, labels = p\n",
        "    predictions = np.argmax(predictions, axis=2)\n",
        "\n",
        "    # Remove ignored index (special tokens)\n",
        "    true_predictions = [\n",
        "        [LABEL_LIST[p] for (p, l) in zip(prediction, label) if l != -100]\n",
        "        for prediction, label in zip(predictions, labels)\n",
        "    ]\n",
        "    true_labels = [\n",
        "        [LABEL_LIST[l] for (p, l) in zip(prediction, label) if l != -100]\n",
        "        for prediction, label in zip(predictions, labels)\n",
        "    ]\n",
        "\n",
        "    results = metric.compute(predictions=true_predictions, references=true_labels)\n",
        "    return {\n",
        "        \"precision\": results[\"overall_precision\"],\n",
        "        \"recall\": results[\"overall_recall\"],\n",
        "        \"f1\": results[\"overall_f1\"],\n",
        "        \"accuracy\": results[\"overall_accuracy\"],\n",
        "    }\n",
        "\n",
        "\n",
        "     "
      ],
      "metadata": {
        "id": "dk0_FUBusPxN"
      },
      "execution_count": null,
      "outputs": []
    },
    {
      "cell_type": "code",
      "source": [
        "batch_size=16\n",
        "\n",
        "train_args = TrainingArguments(\n",
        "    \"bert_partitive_roles\",\n",
        "    evaluation_strategy = \"epoch\",\n",
        "    learning_rate=2e-5,\n",
        "    per_device_train_batch_size=batch_size,\n",
        "    per_device_eval_batch_size=batch_size,\n",
        "    num_train_epochs=10,\n",
        "    weight_decay=0.01\n",
        ")\n",
        "\n",
        "data_collator = DataCollatorForTokenClassification(tokenizer)\n",
        "\n",
        "metric = load_metric(\"seqeval\")"
      ],
      "metadata": {
        "colab": {
          "base_uri": "https://localhost:8080/"
        },
        "id": "zk8fdiRUsSm7",
        "outputId": "19a8c73d-756f-45c9-c437-a5e9f2c8bcdd"
      },
      "execution_count": null,
      "outputs": [
        {
          "output_type": "stream",
          "name": "stderr",
          "text": [
            "PyTorch: setting up devices\n",
            "The default value for the training argument `--report_to` will change in v5 (from all installed integrations to none). In v5, you will need to use `--report_to all` to get the same behavior as now. You should start updating your code and make this info disappear :-).\n"
          ]
        }
      ]
    },
    {
      "cell_type": "code",
      "source": [
        "trainer = Trainer(\n",
        "    model,\n",
        "    train_args,\n",
        "    train_dataset=tokenized_datasets[\"train\"],\n",
        "    eval_dataset=tokenized_datasets[\"valid\"],\n",
        "    data_collator=data_collator,\n",
        "    tokenizer=tokenizer,\n",
        "    compute_metrics=compute_metrics\n",
        ")"
      ],
      "metadata": {
        "id": "2rT_ZpOosqWj"
      },
      "execution_count": null,
      "outputs": []
    },
    {
      "cell_type": "code",
      "source": [
        "trainer.train()"
      ],
      "metadata": {
        "colab": {
          "base_uri": "https://localhost:8080/",
          "height": 1000
        },
        "id": "Hj3rM2fTssv3",
        "outputId": "173469ae-b07e-403d-bb83-b2cd912014d2"
      },
      "execution_count": null,
      "outputs": [
        {
          "output_type": "stream",
          "name": "stderr",
          "text": [
            "The following columns in the training set don't have a corresponding argument in `BertForTokenClassification.forward` and have been ignored: tokens, bio_tags, partitive_roles, distance_tags, pos_tags. If tokens, bio_tags, partitive_roles, distance_tags, pos_tags are not expected by `BertForTokenClassification.forward`,  you can safely ignore this message.\n",
            "/usr/local/lib/python3.8/dist-packages/transformers/optimization.py:306: FutureWarning: This implementation of AdamW is deprecated and will be removed in a future version. Use the PyTorch implementation torch.optim.AdamW instead, or set `no_deprecation_warning=True` to disable this warning\n",
            "  warnings.warn(\n",
            "***** Running training *****\n",
            "  Num examples = 2192\n",
            "  Num Epochs = 10\n",
            "  Instantaneous batch size per device = 16\n",
            "  Total train batch size (w. parallel, distributed & accumulation) = 16\n",
            "  Gradient Accumulation steps = 1\n",
            "  Total optimization steps = 1370\n",
            "  Number of trainable parameters = 108894724\n",
            "You're using a BertTokenizerFast tokenizer. Please note that with a fast tokenizer, using the `__call__` method is faster than using a method to encode the text followed by a call to the `pad` method to get a padded encoding.\n"
          ]
        },
        {
          "output_type": "display_data",
          "data": {
            "text/plain": [
              "<IPython.core.display.HTML object>"
            ],
            "text/html": [
              "\n",
              "    <div>\n",
              "      \n",
              "      <progress value='1370' max='1370' style='width:300px; height:20px; vertical-align: middle;'></progress>\n",
              "      [1370/1370 04:49, Epoch 10/10]\n",
              "    </div>\n",
              "    <table border=\"1\" class=\"dataframe\">\n",
              "  <thead>\n",
              " <tr style=\"text-align: left;\">\n",
              "      <th>Epoch</th>\n",
              "      <th>Training Loss</th>\n",
              "      <th>Validation Loss</th>\n",
              "      <th>Precision</th>\n",
              "      <th>Recall</th>\n",
              "      <th>F1</th>\n",
              "      <th>Accuracy</th>\n",
              "    </tr>\n",
              "  </thead>\n",
              "  <tbody>\n",
              "    <tr>\n",
              "      <td>1</td>\n",
              "      <td>No log</td>\n",
              "      <td>0.077634</td>\n",
              "      <td>0.731707</td>\n",
              "      <td>0.836653</td>\n",
              "      <td>0.780669</td>\n",
              "      <td>0.966641</td>\n",
              "    </tr>\n",
              "    <tr>\n",
              "      <td>2</td>\n",
              "      <td>No log</td>\n",
              "      <td>0.064337</td>\n",
              "      <td>0.779630</td>\n",
              "      <td>0.838645</td>\n",
              "      <td>0.808061</td>\n",
              "      <td>0.971626</td>\n",
              "    </tr>\n",
              "    <tr>\n",
              "      <td>3</td>\n",
              "      <td>No log</td>\n",
              "      <td>0.065856</td>\n",
              "      <td>0.810976</td>\n",
              "      <td>0.794821</td>\n",
              "      <td>0.802817</td>\n",
              "      <td>0.970859</td>\n",
              "    </tr>\n",
              "    <tr>\n",
              "      <td>4</td>\n",
              "      <td>0.078300</td>\n",
              "      <td>0.060535</td>\n",
              "      <td>0.780399</td>\n",
              "      <td>0.856574</td>\n",
              "      <td>0.816714</td>\n",
              "      <td>0.971242</td>\n",
              "    </tr>\n",
              "    <tr>\n",
              "      <td>5</td>\n",
              "      <td>0.078300</td>\n",
              "      <td>0.063876</td>\n",
              "      <td>0.819444</td>\n",
              "      <td>0.822709</td>\n",
              "      <td>0.821074</td>\n",
              "      <td>0.972776</td>\n",
              "    </tr>\n",
              "    <tr>\n",
              "      <td>6</td>\n",
              "      <td>0.078300</td>\n",
              "      <td>0.064385</td>\n",
              "      <td>0.807692</td>\n",
              "      <td>0.836653</td>\n",
              "      <td>0.821918</td>\n",
              "      <td>0.972393</td>\n",
              "    </tr>\n",
              "    <tr>\n",
              "      <td>7</td>\n",
              "      <td>0.078300</td>\n",
              "      <td>0.068028</td>\n",
              "      <td>0.755518</td>\n",
              "      <td>0.886454</td>\n",
              "      <td>0.815765</td>\n",
              "      <td>0.971242</td>\n",
              "    </tr>\n",
              "    <tr>\n",
              "      <td>8</td>\n",
              "      <td>0.032200</td>\n",
              "      <td>0.067458</td>\n",
              "      <td>0.768817</td>\n",
              "      <td>0.854582</td>\n",
              "      <td>0.809434</td>\n",
              "      <td>0.970859</td>\n",
              "    </tr>\n",
              "    <tr>\n",
              "      <td>9</td>\n",
              "      <td>0.032200</td>\n",
              "      <td>0.070394</td>\n",
              "      <td>0.803468</td>\n",
              "      <td>0.830677</td>\n",
              "      <td>0.816846</td>\n",
              "      <td>0.972393</td>\n",
              "    </tr>\n",
              "    <tr>\n",
              "      <td>10</td>\n",
              "      <td>0.032200</td>\n",
              "      <td>0.070359</td>\n",
              "      <td>0.793621</td>\n",
              "      <td>0.842629</td>\n",
              "      <td>0.817391</td>\n",
              "      <td>0.972393</td>\n",
              "    </tr>\n",
              "  </tbody>\n",
              "</table><p>"
            ]
          },
          "metadata": {}
        },
        {
          "output_type": "stream",
          "name": "stderr",
          "text": [
            "The following columns in the evaluation set don't have a corresponding argument in `BertForTokenClassification.forward` and have been ignored: tokens, bio_tags, partitive_roles, distance_tags, pos_tags. If tokens, bio_tags, partitive_roles, distance_tags, pos_tags are not expected by `BertForTokenClassification.forward`,  you can safely ignore this message.\n",
            "***** Running Evaluation *****\n",
            "  Num examples = 83\n",
            "  Batch size = 16\n",
            "/usr/local/lib/python3.8/dist-packages/seqeval/metrics/sequence_labeling.py:171: UserWarning: NONE seems not to be NE tag.\n",
            "  warnings.warn('{} seems not to be NE tag.'.format(chunk))\n",
            "/usr/local/lib/python3.8/dist-packages/seqeval/metrics/sequence_labeling.py:171: UserWarning: PRED seems not to be NE tag.\n",
            "  warnings.warn('{} seems not to be NE tag.'.format(chunk))\n",
            "/usr/local/lib/python3.8/dist-packages/seqeval/metrics/sequence_labeling.py:171: UserWarning: SUPPORT seems not to be NE tag.\n",
            "  warnings.warn('{} seems not to be NE tag.'.format(chunk))\n",
            "/usr/local/lib/python3.8/dist-packages/seqeval/metrics/sequence_labeling.py:171: UserWarning: ARG1 seems not to be NE tag.\n",
            "  warnings.warn('{} seems not to be NE tag.'.format(chunk))\n",
            "The following columns in the evaluation set don't have a corresponding argument in `BertForTokenClassification.forward` and have been ignored: tokens, bio_tags, partitive_roles, distance_tags, pos_tags. If tokens, bio_tags, partitive_roles, distance_tags, pos_tags are not expected by `BertForTokenClassification.forward`,  you can safely ignore this message.\n",
            "***** Running Evaluation *****\n",
            "  Num examples = 83\n",
            "  Batch size = 16\n",
            "The following columns in the evaluation set don't have a corresponding argument in `BertForTokenClassification.forward` and have been ignored: tokens, bio_tags, partitive_roles, distance_tags, pos_tags. If tokens, bio_tags, partitive_roles, distance_tags, pos_tags are not expected by `BertForTokenClassification.forward`,  you can safely ignore this message.\n",
            "***** Running Evaluation *****\n",
            "  Num examples = 83\n",
            "  Batch size = 16\n",
            "Saving model checkpoint to bert_partitive_roles/checkpoint-500\n",
            "Configuration saved in bert_partitive_roles/checkpoint-500/config.json\n",
            "Model weights saved in bert_partitive_roles/checkpoint-500/pytorch_model.bin\n",
            "tokenizer config file saved in bert_partitive_roles/checkpoint-500/tokenizer_config.json\n",
            "Special tokens file saved in bert_partitive_roles/checkpoint-500/special_tokens_map.json\n",
            "The following columns in the evaluation set don't have a corresponding argument in `BertForTokenClassification.forward` and have been ignored: tokens, bio_tags, partitive_roles, distance_tags, pos_tags. If tokens, bio_tags, partitive_roles, distance_tags, pos_tags are not expected by `BertForTokenClassification.forward`,  you can safely ignore this message.\n",
            "***** Running Evaluation *****\n",
            "  Num examples = 83\n",
            "  Batch size = 16\n",
            "/usr/local/lib/python3.8/dist-packages/seqeval/metrics/sequence_labeling.py:171: UserWarning: NONE seems not to be NE tag.\n",
            "  warnings.warn('{} seems not to be NE tag.'.format(chunk))\n",
            "/usr/local/lib/python3.8/dist-packages/seqeval/metrics/sequence_labeling.py:171: UserWarning: PRED seems not to be NE tag.\n",
            "  warnings.warn('{} seems not to be NE tag.'.format(chunk))\n",
            "/usr/local/lib/python3.8/dist-packages/seqeval/metrics/sequence_labeling.py:171: UserWarning: SUPPORT seems not to be NE tag.\n",
            "  warnings.warn('{} seems not to be NE tag.'.format(chunk))\n",
            "/usr/local/lib/python3.8/dist-packages/seqeval/metrics/sequence_labeling.py:171: UserWarning: ARG1 seems not to be NE tag.\n",
            "  warnings.warn('{} seems not to be NE tag.'.format(chunk))\n",
            "The following columns in the evaluation set don't have a corresponding argument in `BertForTokenClassification.forward` and have been ignored: tokens, bio_tags, partitive_roles, distance_tags, pos_tags. If tokens, bio_tags, partitive_roles, distance_tags, pos_tags are not expected by `BertForTokenClassification.forward`,  you can safely ignore this message.\n",
            "***** Running Evaluation *****\n",
            "  Num examples = 83\n",
            "  Batch size = 16\n",
            "The following columns in the evaluation set don't have a corresponding argument in `BertForTokenClassification.forward` and have been ignored: tokens, bio_tags, partitive_roles, distance_tags, pos_tags. If tokens, bio_tags, partitive_roles, distance_tags, pos_tags are not expected by `BertForTokenClassification.forward`,  you can safely ignore this message.\n",
            "***** Running Evaluation *****\n",
            "  Num examples = 83\n",
            "  Batch size = 16\n",
            "The following columns in the evaluation set don't have a corresponding argument in `BertForTokenClassification.forward` and have been ignored: tokens, bio_tags, partitive_roles, distance_tags, pos_tags. If tokens, bio_tags, partitive_roles, distance_tags, pos_tags are not expected by `BertForTokenClassification.forward`,  you can safely ignore this message.\n",
            "***** Running Evaluation *****\n",
            "  Num examples = 83\n",
            "  Batch size = 16\n",
            "Saving model checkpoint to bert_partitive_roles/checkpoint-1000\n",
            "Configuration saved in bert_partitive_roles/checkpoint-1000/config.json\n",
            "Model weights saved in bert_partitive_roles/checkpoint-1000/pytorch_model.bin\n",
            "tokenizer config file saved in bert_partitive_roles/checkpoint-1000/tokenizer_config.json\n",
            "Special tokens file saved in bert_partitive_roles/checkpoint-1000/special_tokens_map.json\n",
            "The following columns in the evaluation set don't have a corresponding argument in `BertForTokenClassification.forward` and have been ignored: tokens, bio_tags, partitive_roles, distance_tags, pos_tags. If tokens, bio_tags, partitive_roles, distance_tags, pos_tags are not expected by `BertForTokenClassification.forward`,  you can safely ignore this message.\n",
            "***** Running Evaluation *****\n",
            "  Num examples = 83\n",
            "  Batch size = 16\n",
            "/usr/local/lib/python3.8/dist-packages/seqeval/metrics/sequence_labeling.py:171: UserWarning: NONE seems not to be NE tag.\n",
            "  warnings.warn('{} seems not to be NE tag.'.format(chunk))\n",
            "/usr/local/lib/python3.8/dist-packages/seqeval/metrics/sequence_labeling.py:171: UserWarning: PRED seems not to be NE tag.\n",
            "  warnings.warn('{} seems not to be NE tag.'.format(chunk))\n",
            "/usr/local/lib/python3.8/dist-packages/seqeval/metrics/sequence_labeling.py:171: UserWarning: SUPPORT seems not to be NE tag.\n",
            "  warnings.warn('{} seems not to be NE tag.'.format(chunk))\n",
            "/usr/local/lib/python3.8/dist-packages/seqeval/metrics/sequence_labeling.py:171: UserWarning: ARG1 seems not to be NE tag.\n",
            "  warnings.warn('{} seems not to be NE tag.'.format(chunk))\n",
            "The following columns in the evaluation set don't have a corresponding argument in `BertForTokenClassification.forward` and have been ignored: tokens, bio_tags, partitive_roles, distance_tags, pos_tags. If tokens, bio_tags, partitive_roles, distance_tags, pos_tags are not expected by `BertForTokenClassification.forward`,  you can safely ignore this message.\n",
            "***** Running Evaluation *****\n",
            "  Num examples = 83\n",
            "  Batch size = 16\n",
            "The following columns in the evaluation set don't have a corresponding argument in `BertForTokenClassification.forward` and have been ignored: tokens, bio_tags, partitive_roles, distance_tags, pos_tags. If tokens, bio_tags, partitive_roles, distance_tags, pos_tags are not expected by `BertForTokenClassification.forward`,  you can safely ignore this message.\n",
            "***** Running Evaluation *****\n",
            "  Num examples = 83\n",
            "  Batch size = 16\n",
            "\n",
            "\n",
            "Training completed. Do not forget to share your model on huggingface.co/models =)\n",
            "\n",
            "\n"
          ]
        },
        {
          "output_type": "execute_result",
          "data": {
            "text/plain": [
              "TrainOutput(global_step=1370, training_loss=0.047819448735592136, metrics={'train_runtime': 289.7176, 'train_samples_per_second': 75.66, 'train_steps_per_second': 4.729, 'total_flos': 678926574234624.0, 'train_loss': 0.047819448735592136, 'epoch': 10.0})"
            ]
          },
          "metadata": {},
          "execution_count": 42
        }
      ]
    },
    {
      "cell_type": "code",
      "source": [
        "test_results = trainer.predict(tokenized_datasets['test'])\n"
      ],
      "metadata": {
        "colab": {
          "base_uri": "https://localhost:8080/",
          "height": 108
        },
        "id": "85fsdVEwsx3F",
        "outputId": "2cbb4890-74d0-4934-f3f4-47044887376f"
      },
      "execution_count": null,
      "outputs": [
        {
          "output_type": "stream",
          "name": "stderr",
          "text": [
            "The following columns in the test set don't have a corresponding argument in `BertForTokenClassification.forward` and have been ignored: pos_tags, tokens, bio_tags, distance_tags. If pos_tags, tokens, bio_tags, distance_tags are not expected by `BertForTokenClassification.forward`,  you can safely ignore this message.\n",
            "***** Running Prediction *****\n",
            "  Num examples = 150\n",
            "  Batch size = 16\n"
          ]
        },
        {
          "output_type": "display_data",
          "data": {
            "text/plain": [
              "<IPython.core.display.HTML object>"
            ],
            "text/html": []
          },
          "metadata": {}
        }
      ]
    },
    {
      "cell_type": "code",
      "source": [
        "out = []\n",
        "\n",
        "for i in range(len(tokenized_datasets['test'])):\n",
        "  sentence = tokenized_datasets['test'][i]\n",
        "  tokenized_input = tokenizer(sentence[\"tokens\"], truncation=True, is_split_into_words=True)\n",
        "  predictions = test_results.predictions[i]\n",
        "  label_ids = []\n",
        "  for prediction in predictions:\n",
        "    label_ids.append(np.argmax(prediction))\n",
        "  word_id_to_label_idx = {}\n",
        "  for j, word_id in enumerate(tokenized_input.word_ids()):\n",
        "    if word_id in word_id_to_label_idx or word_id is None:\n",
        "      continue\n",
        "    word_id_to_label_idx[word_id] = j\n",
        "  labelings = []\n",
        "  for j, token in enumerate(sentence[\"tokens\"]):\n",
        "    label_idx = word_id_to_label_idx[j]\n",
        "    label_id = label_ids[label_idx]\n",
        "    label = LABEL_LIST[label_id] if label_id ==2 else None\n",
        "    labelings.append((token, label))\n",
        "  out.append(labelings)"
      ],
      "metadata": {
        "id": "bEOIVpAJuzqc"
      },
      "execution_count": null,
      "outputs": []
    },
    {
      "cell_type": "code",
      "source": [
        "with open(outputFile, 'w') as f:\n",
        "  for line in out:\n",
        "    for labling in line:\n",
        "      if labling[1]:\n",
        "        f.write(f\"{labling[0]}\\t{labling[1]}\\n\")\n",
        "      else:\n",
        "        f.write(f\"{labling[0]}\\n\")\n",
        "    f.write(\"\\n\")"
      ],
      "metadata": {
        "id": "DICBFMp8u9Rw"
      },
      "execution_count": null,
      "outputs": []
    },
    {
      "cell_type": "code",
      "source": [
        "\n",
        "def test_sentence_string(s: str):\n",
        "  tokenized_input = tokenizer(s, truncation=True)\n",
        "  model(tokenized_input)\n"
      ],
      "metadata": {
        "id": "eVMgpgvUu_ka"
      },
      "execution_count": null,
      "outputs": []
    }
  ]
}